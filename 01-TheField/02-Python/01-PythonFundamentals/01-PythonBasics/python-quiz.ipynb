{
 "cells": [
  {
   "cell_type": "markdown",
   "metadata": {},
   "source": [
    "# Quizz 1 - Python basics"
   ]
  },
  {
   "cell_type": "markdown",
   "metadata": {},
   "source": [
    "## a) type"
   ]
  },
  {
   "cell_type": "markdown",
   "metadata": {},
   "source": [
    "### Create a variable `string` containing `\"toto\"` and a variable `number` containing the number 10."
   ]
  },
  {
   "cell_type": "code",
   "execution_count": 26,
   "metadata": {},
   "outputs": [],
   "source": [
    "name = \"toto\"\n",
    "best = 10"
   ]
  },
  {
   "cell_type": "markdown",
   "metadata": {},
   "source": [
    "### Reverse the contents of the variables `string` and `number` (from line 1)."
   ]
  },
  {
   "cell_type": "code",
   "execution_count": 27,
   "metadata": {},
   "outputs": [
    {
     "name": "stdout",
     "output_type": "stream",
     "text": [
      "otot\n"
     ]
    }
   ],
   "source": [
    "print(name[::-1])\n"
   ]
  },
  {
   "cell_type": "markdown",
   "metadata": {},
   "source": [
    "## b) List"
   ]
  },
  {
   "cell_type": "markdown",
   "metadata": {},
   "source": [
    "### Create a list `first_list`  containing the following integers: 1, 3, 2, 7, 4, 10, 46."
   ]
  },
  {
   "cell_type": "code",
   "execution_count": 28,
   "metadata": {},
   "outputs": [],
   "source": [
    "first_list = [1,3,2,7,4,10,46]"
   ]
  },
  {
   "cell_type": "markdown",
   "metadata": {},
   "source": [
    "\n",
    "### Display the first 3 items in `first_list` - in one line of code."
   ]
  },
  {
   "cell_type": "code",
   "execution_count": 29,
   "metadata": {},
   "outputs": [
    {
     "name": "stdout",
     "output_type": "stream",
     "text": [
      "[1, 3, 2]\n"
     ]
    }
   ],
   "source": [
    "print(first_list[:3])"
   ]
  },
  {
   "cell_type": "markdown",
   "metadata": {},
   "source": [
    "### Create a `second_list` that contains only the 3rd, 4th and 5th elements of `first_list` . Your list indexing should use 3 characters at most (not including spaces) - Check your result carefully!"
   ]
  },
  {
   "cell_type": "code",
   "execution_count": 30,
   "metadata": {},
   "outputs": [
    {
     "name": "stdout",
     "output_type": "stream",
     "text": [
      "[2, 7, 4]\n"
     ]
    }
   ],
   "source": [
    "second_list = first_list[2:5]\n",
    "print(second_list)"
   ]
  },
  {
   "cell_type": "markdown",
   "metadata": {},
   "source": [
    "### Concatenate `first_list` and `second_list` to form `third_list`."
   ]
  },
  {
   "cell_type": "code",
   "execution_count": 31,
   "metadata": {},
   "outputs": [],
   "source": [
    "third_list = first_list + second_list"
   ]
  },
  {
   "cell_type": "markdown",
   "metadata": {},
   "source": [
    "### Using the zip function, associate the values of `first_list` and `second_list` in the variable `tuple_of_lists`."
   ]
  },
  {
   "cell_type": "code",
   "execution_count": 32,
   "metadata": {},
   "outputs": [],
   "source": [
    "tuple_of_list = zip(first_list, second_list)\n"
   ]
  },
  {
   "cell_type": "markdown",
   "metadata": {},
   "source": [
    "### Add the number 5 to `first_list`."
   ]
  },
  {
   "cell_type": "code",
   "execution_count": 33,
   "metadata": {},
   "outputs": [
    {
     "name": "stdout",
     "output_type": "stream",
     "text": [
      "[1, 3, 2, 7, 4, 10, 46, 5]\n"
     ]
    }
   ],
   "source": [
    "first_list.append(5)\n",
    "print(first_list)"
   ]
  },
  {
   "cell_type": "markdown",
   "metadata": {},
   "source": [
    "### Add a null element to `third_list`."
   ]
  },
  {
   "cell_type": "code",
   "execution_count": 34,
   "metadata": {},
   "outputs": [
    {
     "name": "stdout",
     "output_type": "stream",
     "text": [
      "[1, 3, 2, 7, 4, 10, 46, 2, 7, 4, None]\n"
     ]
    }
   ],
   "source": [
    "third_list.append(None)\n",
    "print(third_list)\n"
   ]
  },
  {
   "cell_type": "markdown",
   "metadata": {},
   "source": [
    "### Write a function that takes as arguments a list `my_list` and an integer `n` and returns the result of `n` concatenations of `my_list` with itself."
   ]
  },
  {
   "cell_type": "code",
   "execution_count": 35,
   "metadata": {},
   "outputs": [
    {
     "name": "stdout",
     "output_type": "stream",
     "text": [
      "[1, 2, 3, 1, 2, 3, 1, 2, 3, 1, 2, 3]\n"
     ]
    }
   ],
   "source": [
    "# Example : my_list=[1,2,3], n=2 --> [1,2,3,1,2,3]\n",
    "def multiple(my_list, n):\n",
    "    return my_list * n\n",
    "\n",
    "print(multiple([1,2,3], 4))"
   ]
  },
  {
   "cell_type": "markdown",
   "metadata": {},
   "source": [
    "### You want to make parameter `n` optional and set its value to 2 by default. How do you do it?"
   ]
  },
  {
   "cell_type": "code",
   "execution_count": 36,
   "metadata": {},
   "outputs": [
    {
     "name": "stdout",
     "output_type": "stream",
     "text": [
      "[1, 2, 3, 1, 2, 3]\n",
      "[1, 2, 3, 1, 2, 3, 1, 2, 3]\n"
     ]
    }
   ],
   "source": [
    "def multiple(my_list, n=2):\n",
    "    return my_list * n\n",
    "\n",
    "print(multiple([1,2,3]))\n",
    "print(multiple([1,2,3], 3))"
   ]
  },
  {
   "cell_type": "markdown",
   "metadata": {},
   "source": [
    "###  With a `while` loop, print each element of `third_list` up to the `null` element."
   ]
  },
  {
   "cell_type": "code",
   "execution_count": 37,
   "metadata": {},
   "outputs": [
    {
     "name": "stdout",
     "output_type": "stream",
     "text": [
      "1\n",
      "3\n",
      "2\n",
      "7\n",
      "4\n",
      "10\n",
      "46\n",
      "2\n",
      "7\n",
      "4\n"
     ]
    }
   ],
   "source": [
    "index = 0\n",
    "while index < len(third_list):\n",
    "    if third_list[index] == None:\n",
    "        break\n",
    "    else:\n",
    "        print(third_list[index])\n",
    "        index += 1\n"
   ]
  },
  {
   "cell_type": "markdown",
   "metadata": {},
   "source": [
    "### Calculate, with a `for` loop, the number of even integers present in the list `first_list`."
   ]
  },
  {
   "cell_type": "code",
   "execution_count": 38,
   "metadata": {},
   "outputs": [],
   "source": [
    "sum = 0\n",
    "for number in first_list:\n",
    "    if number % 2 == 0:\n",
    "        sum += 1"
   ]
  },
  {
   "cell_type": "markdown",
   "metadata": {},
   "source": [
    "### Rewrite the following expression with a multi-line `for` loop."
   ]
  },
  {
   "cell_type": "code",
   "execution_count": 39,
   "metadata": {},
   "outputs": [],
   "source": [
    "even_numbers = [element for element in first_list if element % 2 == 0]"
   ]
  },
  {
   "cell_type": "code",
   "execution_count": 40,
   "metadata": {},
   "outputs": [],
   "source": [
    "even_numbers = []\n",
    "for element in first_list:\n",
    "    if element % 2 == 0:\n",
    "        even_numbers.append(element)"
   ]
  },
  {
   "cell_type": "markdown",
   "metadata": {},
   "source": [
    "### Create a function that takes a string as input and returns the first single letter of the string"
   ]
  },
  {
   "cell_type": "code",
   "execution_count": 41,
   "metadata": {},
   "outputs": [
    {
     "name": "stdout",
     "output_type": "stream",
     "text": [
      "c\n"
     ]
    }
   ],
   "source": [
    "def unique_letter(s):\n",
    "    unique = {}\n",
    "    string = s.lower()\n",
    "\n",
    "    for letter in string:\n",
    "        if letter in unique:\n",
    "            unique[letter] += 1\n",
    "        else:\n",
    "            unique[letter] = 1\n",
    "\n",
    "    for letter in string:\n",
    "        if unique[letter] == 1:\n",
    "            return letter\n",
    "\n",
    "    return None\n",
    "\n",
    "print(unique_letter(\"Un petit espace ne veut pas dire qu'on ne peut pas étudier ou travailler\"))"
   ]
  },
  {
   "cell_type": "markdown",
   "metadata": {},
   "source": [
    "## c) Dictionaries"
   ]
  },
  {
   "cell_type": "markdown",
   "metadata": {},
   "source": [
    "### Create a `car` dictionary with the following keys and values:\n",
    "| key  | value |\n",
    "|---|---|\n",
    "| brand  | Ford  |\n",
    "| model  | Mustang |\n",
    "| year  | 1964 |"
   ]
  },
  {
   "cell_type": "code",
   "execution_count": 42,
   "metadata": {},
   "outputs": [],
   "source": [
    "car = {\n",
    "    \"brand\" : \"Ford\",\n",
    "    \"model\" : \"Mustang\",\n",
    "    \"year\" : 1964\n",
    "}"
   ]
  },
  {
   "cell_type": "markdown",
   "metadata": {},
   "source": [
    "### Access the `year` value."
   ]
  },
  {
   "cell_type": "code",
   "execution_count": 43,
   "metadata": {},
   "outputs": [
    {
     "name": "stdout",
     "output_type": "stream",
     "text": [
      "1964\n"
     ]
    }
   ],
   "source": [
    "print(car[\"year\"])"
   ]
  },
  {
   "cell_type": "markdown",
   "metadata": {},
   "source": [
    "###  Use a loop to display all the dictionary keys."
   ]
  },
  {
   "cell_type": "code",
   "execution_count": 44,
   "metadata": {},
   "outputs": [
    {
     "name": "stdout",
     "output_type": "stream",
     "text": [
      "brand\n",
      "model\n",
      "year\n"
     ]
    }
   ],
   "source": [
    "for key in car.keys():\n",
    "    print(key)"
   ]
  },
  {
   "cell_type": "markdown",
   "metadata": {},
   "source": [
    "###  Use a loop to display all the dictionary values."
   ]
  },
  {
   "cell_type": "code",
   "execution_count": 45,
   "metadata": {},
   "outputs": [
    {
     "name": "stdout",
     "output_type": "stream",
     "text": [
      "Ford\n",
      "Mustang\n",
      "1964\n"
     ]
    }
   ],
   "source": [
    "for key in car.values():\n",
    "    print(key)"
   ]
  },
  {
   "cell_type": "markdown",
   "metadata": {},
   "source": [
    "### Use a loop to display all the items in the dictionary. Display also the index of each loop iteration (`enumerate` function)."
   ]
  },
  {
   "cell_type": "code",
   "execution_count": 46,
   "metadata": {},
   "outputs": [
    {
     "name": "stdout",
     "output_type": "stream",
     "text": [
      "1. brand: Ford\n",
      "2. model: Mustang\n",
      "3. year: 1964\n"
     ]
    }
   ],
   "source": [
    "for index, (key, value) in enumerate(car.items()):\n",
    "    print(f\"{index +1}. {key}: {value}\")"
   ]
  },
  {
   "cell_type": "markdown",
   "metadata": {},
   "source": [
    "### With the help of a dictionary comprehension, create a dictionary with the following keys and values :\n",
    "| key  | value |\n",
    "|---|---|\n",
    "| cle_1  | dictionary 'car' |\n",
    "| cle_2  | dictionary 'car' |\n",
    "| cle_3  | dictionary 'car'|\n",
    "\n",
    "#### Example of a dictionary comprehension (similar to list comprehension):\n",
    "```\n",
    "my_dict = {key:value for key, value in zip(list_1, list_2)}\n",
    "```"
   ]
  },
  {
   "cell_type": "code",
   "execution_count": 47,
   "metadata": {},
   "outputs": [
    {
     "name": "stdout",
     "output_type": "stream",
     "text": [
      "{'brand': 'Ford', 'model': 'Mustang', 'year': 1964}\n"
     ]
    }
   ],
   "source": [
    "new_dict = {key:value for key, value in car.items()}\n",
    "print(dict(new_dict))"
   ]
  },
  {
   "cell_type": "markdown",
   "metadata": {},
   "source": [
    "## d) Functions"
   ]
  },
  {
   "cell_type": "markdown",
   "metadata": {},
   "source": [
    "### Create a Fibonacci function called `fibonacci`  (Fibonacci sequence: 0 1 1 2 3 5 8 13 ...)\n",
    "\n",
    "It should return the list of all Fibonacci numbers leading up to the Fibonacci number that is bigger (or equal) than the number passed in as argument.\n",
    "Ex : `fibonacci(10) return [0,1,1,2,3,5,8,13]`\n",
    "Ex : `fibonacci(5) return [0,1,1,2,3,5]`"
   ]
  },
  {
   "cell_type": "code",
   "execution_count": 51,
   "metadata": {},
   "outputs": [
    {
     "data": {
      "text/plain": [
       "[0, 1, 1, 2, 3, 5]"
      ]
     },
     "execution_count": 51,
     "metadata": {},
     "output_type": "execute_result"
    }
   ],
   "source": [
    "\n",
    "def fibonacci(number):\n",
    "    sequence = [0, 1]\n",
    "\n",
    "    while True:\n",
    "        next_number = sequence[-1] + sequence[-2]\n",
    "        sequence.append(next_number)\n",
    "        if next_number >= number:\n",
    "            break\n",
    "    return sequence\n",
    "\n",
    "fibonacci(5)\n"
   ]
  },
  {
   "cell_type": "code",
   "execution_count": null,
   "metadata": {},
   "outputs": [],
   "source": []
  },
  {
   "cell_type": "markdown",
   "metadata": {},
   "source": [
    "### Execute your function. `fibonacci(100)` must be executed in less than 1 second."
   ]
  },
  {
   "cell_type": "code",
   "execution_count": 49,
   "metadata": {},
   "outputs": [
    {
     "data": {
      "text/plain": [
       "[0, 1, 1, 2, 3, 5, 8, 13, 21, 34, 55, 89, 144]"
      ]
     },
     "execution_count": 49,
     "metadata": {},
     "output_type": "execute_result"
    }
   ],
   "source": [
    "fibonacci(100)"
   ]
  },
  {
   "cell_type": "markdown",
   "metadata": {},
   "source": [
    "### Create the same function using a generator\n",
    "Ex : `generate_fibonacci(10) `"
   ]
  },
  {
   "cell_type": "markdown",
   "metadata": {},
   "source": []
  }
 ],
 "metadata": {
  "kernelspec": {
   "display_name": "Python 3",
   "language": "python",
   "name": "python3"
  },
  "language_info": {
   "codemirror_mode": {
    "name": "ipython",
    "version": 3
   },
   "file_extension": ".py",
   "mimetype": "text/x-python",
   "name": "python",
   "nbconvert_exporter": "python",
   "pygments_lexer": "ipython3",
   "version": "3.12.3"
  }
 },
 "nbformat": 4,
 "nbformat_minor": 2
}
