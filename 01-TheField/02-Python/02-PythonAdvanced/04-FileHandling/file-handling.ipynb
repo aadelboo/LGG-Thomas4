{
 "cells": [
  {
   "cell_type": "markdown",
   "metadata": {},
   "source": [
    "# Reading and writing files"
   ]
  },
  {
   "cell_type": "markdown",
   "metadata": {},
   "source": [
    "We have made good progress and now we can get down to the more serious task of manipulating files. This is one of the very important points concerning this training. \n",
    "\n",
    "\n",
    "N.B: Most of the files in `./data/` are files that we will use to understand how file opening works. They don't have a special purpose other than that. "
   ]
  },
  {
   "cell_type": "markdown",
   "metadata": {},
   "source": [
    "To open/edit a file in python we use the `open()` function.\n",
    "\n",
    "This function takes as first parameter the path of the file (*relative* or *absolute*) and as second parameter the type of opening, _i.e._ reading or writing mode.\n",
    "\n",
    "A **relative path** in computing is a path that takes into account the current location. The path is **relative** to where it is called from\n",
    "\n",
    "- **Example:** _./data/data.txt_\n",
    "\n",
    "An **absolute path** is a complete path that can be read regardless of the reading location\n",
    "\n",
    "- **Example:** _/Users/becodian/Desktop/BeCode/ai-track/content/2.python/2.python_advanced/04.File-handling/data/data.txt_\n",
    "\n",
    "The best practice is to always use **relative** paths in your Python code. In this way your code can be shared **as it is** with your colleagues. An absolute path will generate an error since it exists only on your own computer.\n",
    "\n"
   ]
  },
  {
   "cell_type": "code",
   "execution_count": 79,
   "metadata": {},
   "outputs": [],
   "source": [
    "filename = \"./data/data_new.txt\"\n",
    "my_file = open(filename, \"r\")  # r for \"read\""
   ]
  },
  {
   "cell_type": "markdown",
   "metadata": {},
   "source": [
    "- `\"r\"`, for a read opening (READ).\n",
    "\n",
    "- `\"w\"`, for a write opening (WRITE), each time the file is opened, the content of the file is overwritten. If the file does not exist, Python creates it. \n",
    "\n",
    "    *The Python docs say that `w+` will \"overwrite the existing file if the file exists\". So as soon as you open a file with `w+`, it is now an empty file: it contains 0 bytes. If it used to contain data, that data has been truncated — cut off and thrown away — and now the file size is 0 bytes, so you can't read any of the data that existed before you opened the file with `w+`. If you actually wanted to read the previous data and add to it, you should use `r+` instead of `w+`* [[Source]](https://stackoverflow.com/questions/16208206/confused-by-python-file-mode-w#comment83227862_16208298)\n",
    "    \n",
    "    \n",
    "\n",
    "- `\"a\"`, for an opening in add mode at the end of the file (APPEND). If the file does not exist, Python creates it.\n",
    "\n",
    "- `\"x\"`, creates a new file and opens it for writing\n",
    "\n",
    "You can also append the character `+` and `b` to nearly all of the above commands. [[More info here]](https://stackabuse.com/file-handling-in-python/)"
   ]
  },
  {
   "cell_type": "markdown",
   "metadata": {},
   "source": [
    "Like any open element, it must be closed again once the instructions have been completed. To do this, we use the `close()` method."
   ]
  },
  {
   "cell_type": "code",
   "execution_count": 80,
   "metadata": {},
   "outputs": [],
   "source": [
    "my_file.close()"
   ]
  },
  {
   "cell_type": "code",
   "execution_count": 81,
   "metadata": {},
   "outputs": [
    {
     "name": "stdout",
     "output_type": "stream",
     "text": [
      "Hi everyone, I'm adding sentences to the file !\n"
     ]
    }
   ],
   "source": [
    "# Let's find out what's going on there\n",
    "my_file = open(filename, \"r\")\n",
    "print(my_file.read())\n",
    "my_file.close()"
   ]
  },
  {
   "cell_type": "markdown",
   "metadata": {},
   "source": [
    "Another possibility of opening without closing by using a **with** statement. That's a **best practice** and you should use that as much as you can."
   ]
  },
  {
   "cell_type": "code",
   "execution_count": 82,
   "metadata": {},
   "outputs": [
    {
     "name": "stdout",
     "output_type": "stream",
     "text": [
      "Hi everyone, I'm adding sentences to the file !\n"
     ]
    }
   ],
   "source": [
    "with open(filename, \"r\") as my_file:\n",
    "    print(my_file.read())"
   ]
  },
  {
   "cell_type": "markdown",
   "metadata": {},
   "source": [
    "Can you create a list based on the contents of this file? Each word should be an element of the list\n",
    "*(Use `.split()` for example...)*"
   ]
  },
  {
   "cell_type": "code",
   "execution_count": 83,
   "metadata": {},
   "outputs": [
    {
     "name": "stdout",
     "output_type": "stream",
     "text": [
      "['Hi', 'everyone,', \"I'm\", 'adding', 'sentences', 'to', 'the', 'file', '!']\n"
     ]
    }
   ],
   "source": [
    "# YOUR CODE HERE\n",
    "with open(filename, \"r\") as file:\n",
    "    print(file.read().split())\n"
   ]
  },
  {
   "cell_type": "markdown",
   "metadata": {},
   "source": [
    "To write in a file, just **open** (existing or not), write in it and close it. We open it in mode `\"w\"` so that the previous data is deleted and new data can be added."
   ]
  },
  {
   "cell_type": "code",
   "execution_count": 109,
   "metadata": {},
   "outputs": [],
   "source": [
    "\n",
    "new_filename = \"./data/data.txt\"\n",
    "file = open(new_filename, \"w\")\n",
    "file.write(\"Hi everyone, I'm adding sentences to the file !\")\n",
    "file.close()"
   ]
  },
  {
   "cell_type": "markdown",
   "metadata": {},
   "source": [
    "Can you take the content of the `data.txt` file from the `./data/` directory, capitalize all the words and write them in the file that you created just before, after the sentences you added?\n"
   ]
  },
  {
   "cell_type": "code",
   "execution_count": 110,
   "metadata": {},
   "outputs": [],
   "source": [
    "# It's up to you to write the end\n",
    "array = []\n",
    "filename = \"./data/data_new.txt\"\n",
    "with open(filename, \"r\") as input_file:\n",
    "    with open(new_filename, \"a\") as output_file:\n",
    "        # Write your code here\n",
    "        array.append(input_file.read().title())\n",
    "        output_file.write(\"\\n\" + \" \".join(array))\n"
   ]
  },
  {
   "cell_type": "markdown",
   "metadata": {},
   "source": [
    "## Management of directory paths..."
   ]
  },
  {
   "cell_type": "markdown",
   "metadata": {},
   "source": [
    "The `os` module is a library that provides a portable way of using operating system dependent functionality.\n",
    "In this chapter, we are interested in using its powerful file path handling capabilities using `os.path`."
   ]
  },
  {
   "cell_type": "code",
   "execution_count": 161,
   "metadata": {},
   "outputs": [],
   "source": [
    "import os"
   ]
  },
  {
   "cell_type": "markdown",
   "metadata": {},
   "source": [
    "Each file or folder is associated with a kind of address that makes it easy to find it without errors. It is not possible to have a file with an identical name as another inside the same folder (except if the file extension is different).\n",
    "\n",
    "As said before, there are two kinds of paths: the absolute path from the root of your file system and the relative path from the folder being read."
   ]
  },
  {
   "cell_type": "markdown",
   "metadata": {},
   "source": [
    "By using `help` function, we can see the available methods."
   ]
  },
  {
   "cell_type": "code",
   "execution_count": 162,
   "metadata": {},
   "outputs": [
    {
     "name": "stdout",
     "output_type": "stream",
     "text": [
      "Help on module posixpath:\n",
      "\n",
      "NAME\n",
      "    posixpath - Common operations on Posix pathnames.\n",
      "\n",
      "DESCRIPTION\n",
      "    Instead of importing this module directly, import os and refer to\n",
      "    this module as os.path.  The \"os.path\" name is an alias for this\n",
      "    module on Posix systems; on other systems (e.g. Windows),\n",
      "    os.path provides the same operations in a manner specific to that\n",
      "    platform, and is an alias to another module (e.g. ntpath).\n",
      "    \n",
      "    Some of this can actually be useful on non-Posix systems too, e.g.\n",
      "    for manipulation of the pathname component of URLs.\n",
      "\n",
      "FUNCTIONS\n",
      "    abspath(path)\n",
      "        Return an absolute path.\n",
      "    \n",
      "    basename(p)\n",
      "        Returns the final component of a pathname\n",
      "    \n",
      "    commonpath(paths)\n",
      "        Given a sequence of path names, returns the longest common sub-path.\n",
      "    \n",
      "    commonprefix(m)\n",
      "        Given a list of pathnames, returns the longest common leading component\n",
      "    \n",
      "    dirname(p)\n",
      "        Returns the directory component of a pathname\n",
      "    \n",
      "    exists(path)\n",
      "        Test whether a path exists.  Returns False for broken symbolic links\n",
      "    \n",
      "    expanduser(path)\n",
      "        Expand ~ and ~user constructions.  If user or $HOME is unknown,\n",
      "        do nothing.\n",
      "    \n",
      "    expandvars(path)\n",
      "        Expand shell variables of form $var and ${var}.  Unknown variables\n",
      "        are left unchanged.\n",
      "    \n",
      "    getatime(filename)\n",
      "        Return the last access time of a file, reported by os.stat().\n",
      "    \n",
      "    getctime(filename)\n",
      "        Return the metadata change time of a file, reported by os.stat().\n",
      "    \n",
      "    getmtime(filename)\n",
      "        Return the last modification time of a file, reported by os.stat().\n",
      "    \n",
      "    getsize(filename)\n",
      "        Return the size of a file, reported by os.stat().\n",
      "    \n",
      "    isabs(s)\n",
      "        Test whether a path is absolute\n",
      "    \n",
      "    isdir(s)\n",
      "        Return true if the pathname refers to an existing directory.\n",
      "    \n",
      "    isfile(path)\n",
      "        Test whether a path is a regular file\n",
      "    \n",
      "    islink(path)\n",
      "        Test whether a path is a symbolic link\n",
      "    \n",
      "    ismount(path)\n",
      "        Test whether a path is a mount point\n",
      "    \n",
      "    join(a, *p)\n",
      "        Join two or more pathname components, inserting '/' as needed.\n",
      "        If any component is an absolute path, all previous path components\n",
      "        will be discarded.  An empty last part will result in a path that\n",
      "        ends with a separator.\n",
      "    \n",
      "    lexists(path)\n",
      "        Test whether a path exists.  Returns True for broken symbolic links\n",
      "    \n",
      "    normcase(s)\n",
      "        Normalize case of pathname.  Has no effect under Posix\n",
      "    \n",
      "    normpath(path)\n",
      "        Normalize path, eliminating double slashes, etc.\n",
      "    \n",
      "    realpath(filename, *, strict=False)\n",
      "        Return the canonical path of the specified filename, eliminating any\n",
      "        symbolic links encountered in the path.\n",
      "    \n",
      "    relpath(path, start=None)\n",
      "        Return a relative version of a path\n",
      "    \n",
      "    samefile(f1, f2)\n",
      "        Test whether two pathnames reference the same actual file or directory\n",
      "        \n",
      "        This is determined by the device number and i-node number and\n",
      "        raises an exception if an os.stat() call on either pathname fails.\n",
      "    \n",
      "    sameopenfile(fp1, fp2)\n",
      "        Test whether two open file objects reference the same file\n",
      "    \n",
      "    samestat(s1, s2)\n",
      "        Test whether two stat buffers reference the same file\n",
      "    \n",
      "    split(p)\n",
      "        Split a pathname.  Returns tuple \"(head, tail)\" where \"tail\" is\n",
      "        everything after the final slash.  Either part may be empty.\n",
      "    \n",
      "    splitdrive(p)\n",
      "        Split a pathname into drive and path. On Posix, drive is always\n",
      "        empty.\n",
      "    \n",
      "    splitext(p)\n",
      "        Split the extension from a pathname.\n",
      "        \n",
      "        Extension is everything from the last dot to the end, ignoring\n",
      "        leading dots.  Returns \"(root, ext)\"; ext may be empty.\n",
      "\n",
      "DATA\n",
      "    __all__ = ['normcase', 'isabs', 'join', 'splitdrive', 'split', 'splite...\n",
      "    altsep = None\n",
      "    curdir = '.'\n",
      "    defpath = '/bin:/usr/bin'\n",
      "    devnull = '/dev/null'\n",
      "    extsep = '.'\n",
      "    pardir = '..'\n",
      "    pathsep = ':'\n",
      "    sep = '/'\n",
      "    supports_unicode_filenames = True\n",
      "\n",
      "FILE\n",
      "    /opt/homebrew/Cellar/python@3.11/3.11.9/Frameworks/Python.framework/Versions/3.11/lib/python3.11/posixpath.py\n",
      "\n",
      "\n"
     ]
    }
   ],
   "source": [
    "help(os.path)"
   ]
  },
  {
   "cell_type": "markdown",
   "metadata": {},
   "source": [
    "To know your current absolute path, use `abspath('')`"
   ]
  },
  {
   "cell_type": "code",
   "execution_count": 163,
   "metadata": {},
   "outputs": [
    {
     "name": "stdout",
     "output_type": "stream",
     "text": [
      "/Users/aadelbouzambou/code/aadelboo/becode_projects/Thomas4/LGG-Thomas4/01-TheField/02-Python/02-PythonAdvanced/04-FileHandling\n",
      "<class 'str'>\n"
     ]
    }
   ],
   "source": [
    "# In Python a path is a string, so there are methods to manipulate it.\n",
    "path = os.path.abspath(\"\")\n",
    "print(path)\n",
    "print(type(path))"
   ]
  },
  {
   "cell_type": "markdown",
   "metadata": {},
   "source": [
    " To get the **directory** containing a path, usr `dirname(path)`."
   ]
  },
  {
   "cell_type": "code",
   "execution_count": 164,
   "metadata": {},
   "outputs": [
    {
     "data": {
      "text/plain": [
       "'/Users/aadelbouzambou/code/aadelboo/becode_projects/Thomas4/LGG-Thomas4/01-TheField/02-Python/02-PythonAdvanced'"
      ]
     },
     "execution_count": 164,
     "metadata": {},
     "output_type": "execute_result"
    }
   ],
   "source": [
    "os.path.dirname(path)"
   ]
  },
  {
   "cell_type": "markdown",
   "metadata": {},
   "source": [
    "To only get the file name of a path (or directory name if this is a directory), use `basename(path)`."
   ]
  },
  {
   "cell_type": "code",
   "execution_count": 165,
   "metadata": {},
   "outputs": [
    {
     "data": {
      "text/plain": [
       "'04-FileHandling'"
      ]
     },
     "execution_count": 165,
     "metadata": {},
     "output_type": "execute_result"
    }
   ],
   "source": [
    "os.path.basename(path)"
   ]
  },
  {
   "cell_type": "markdown",
   "metadata": {},
   "source": [
    "To add a directory, let's say `\"text\"` to the path, we use `join()`. \n",
    "\n",
    "The cool thing is that it is compatible across operating systems. Meaning that on Windows it will automatically add `\\` between the arguments of `os.path.join`, and on Linux it will add `/`. The same code thus works on every operating system!"
   ]
  },
  {
   "cell_type": "code",
   "execution_count": 166,
   "metadata": {},
   "outputs": [
    {
     "name": "stdout",
     "output_type": "stream",
     "text": [
      "/Users/aadelbouzambou/code/aadelboo/becode_projects/Thomas4/LGG-Thomas4/01-TheField/02-Python/02-PythonAdvanced/04-FileHandling/text\n"
     ]
    }
   ],
   "source": [
    "rep_text = os.path.join(path, \"text\")\n",
    "print(rep_text)"
   ]
  },
  {
   "cell_type": "markdown",
   "metadata": {},
   "source": [
    "To retrieve all the elements of a folder as a list, you can use the `listdir()` method."
   ]
  },
  {
   "cell_type": "code",
   "execution_count": 167,
   "metadata": {},
   "outputs": [
    {
     "data": {
      "text/plain": [
       "['03-Regex',\n",
       " '04-FileHandling',\n",
       " '08-Typing',\n",
       " '07-Decorators',\n",
       " '02-ExceptionHandling',\n",
       " 'README.md',\n",
       " '05-Scraping',\n",
       " '01-OOP',\n",
       " '09-DataStructures',\n",
       " '06-Concurrency',\n",
       " '10-UnitTesting']"
      ]
     },
     "execution_count": 167,
     "metadata": {},
     "output_type": "execute_result"
    }
   ],
   "source": [
    "# Items are returned as a list and includes folders and hidden files.\n",
    "os.listdir(\"../\")"
   ]
  },
  {
   "cell_type": "markdown",
   "metadata": {},
   "source": [
    "### How to display all the elements of a folder as well as its child folders? \n",
    "\n",
    "With the `walk()` function:\n",
    "\n",
    "```\n",
    "walk(top, topdown=True, onerror=None, followlinks=False)\n",
    "```\n"
   ]
  },
  {
   "cell_type": "code",
   "execution_count": 168,
   "metadata": {},
   "outputs": [
    {
     "name": "stdout",
     "output_type": "stream",
     "text": [
      "/Users/aadelbouzambou/code/aadelboo/becode_projects/Thomas4/LGG-Thomas4/01-TheField/02-Python/02-PythonAdvanced/04-FileHandling/file-handling.ipynb\n",
      "/Users/aadelbouzambou/code/aadelboo/becode_projects/Thomas4/LGG-Thomas4/01-TheField/02-Python/02-PythonAdvanced/04-FileHandling/data/comptagevelo2017.xlsx\n",
      "/Users/aadelbouzambou/code/aadelboo/becode_projects/Thomas4/LGG-Thomas4/01-TheField/02-Python/02-PythonAdvanced/04-FileHandling/data/VOEUX74.txt\n",
      "/Users/aadelbouzambou/code/aadelboo/becode_projects/Thomas4/LGG-Thomas4/01-TheField/02-Python/02-PythonAdvanced/04-FileHandling/data/VOEUX75.txt\n",
      "/Users/aadelbouzambou/code/aadelboo/becode_projects/Thomas4/LGG-Thomas4/01-TheField/02-Python/02-PythonAdvanced/04-FileHandling/data/VOEUX89.txt\n",
      "/Users/aadelbouzambou/code/aadelboo/becode_projects/Thomas4/LGG-Thomas4/01-TheField/02-Python/02-PythonAdvanced/04-FileHandling/data/VOEUX05.txt\n",
      "/Users/aadelbouzambou/code/aadelboo/becode_projects/Thomas4/LGG-Thomas4/01-TheField/02-Python/02-PythonAdvanced/04-FileHandling/data/final.txt\n",
      "/Users/aadelbouzambou/code/aadelboo/becode_projects/Thomas4/LGG-Thomas4/01-TheField/02-Python/02-PythonAdvanced/04-FileHandling/data/comptagevelo2017.csv\n",
      "/Users/aadelbouzambou/code/aadelboo/becode_projects/Thomas4/LGG-Thomas4/01-TheField/02-Python/02-PythonAdvanced/04-FileHandling/data/VOEUX06.txt\n",
      "/Users/aadelbouzambou/code/aadelboo/becode_projects/Thomas4/LGG-Thomas4/01-TheField/02-Python/02-PythonAdvanced/04-FileHandling/data/VOEUX07.txt\n",
      "/Users/aadelbouzambou/code/aadelboo/becode_projects/Thomas4/LGG-Thomas4/01-TheField/02-Python/02-PythonAdvanced/04-FileHandling/data/mail.txt\n",
      "/Users/aadelbouzambou/code/aadelboo/becode_projects/Thomas4/LGG-Thomas4/01-TheField/02-Python/02-PythonAdvanced/04-FileHandling/data/VOEUX01.txt\n",
      "/Users/aadelbouzambou/code/aadelboo/becode_projects/Thomas4/LGG-Thomas4/01-TheField/02-Python/02-PythonAdvanced/04-FileHandling/data/write.txt\n",
      "/Users/aadelbouzambou/code/aadelboo/becode_projects/Thomas4/LGG-Thomas4/01-TheField/02-Python/02-PythonAdvanced/04-FileHandling/data/VOEUX09.txt\n",
      "/Users/aadelbouzambou/code/aadelboo/becode_projects/Thomas4/LGG-Thomas4/01-TheField/02-Python/02-PythonAdvanced/04-FileHandling/data/VOEUX08.txt\n",
      "/Users/aadelbouzambou/code/aadelboo/becode_projects/Thomas4/LGG-Thomas4/01-TheField/02-Python/02-PythonAdvanced/04-FileHandling/data/L'équipe,du sport en continu..html\n",
      "/Users/aadelbouzambou/code/aadelboo/becode_projects/Thomas4/LGG-Thomas4/01-TheField/02-Python/02-PythonAdvanced/04-FileHandling/data/VOEUX90.txt\n",
      "/Users/aadelbouzambou/code/aadelboo/becode_projects/Thomas4/LGG-Thomas4/01-TheField/02-Python/02-PythonAdvanced/04-FileHandling/data/weather_2017.csv\n",
      "/Users/aadelbouzambou/code/aadelboo/becode_projects/Thomas4/LGG-Thomas4/01-TheField/02-Python/02-PythonAdvanced/04-FileHandling/data/VOEUX87.txt\n",
      "/Users/aadelbouzambou/code/aadelboo/becode_projects/Thomas4/LGG-Thomas4/01-TheField/02-Python/02-PythonAdvanced/04-FileHandling/data/VOEUX79.txt\n",
      "/Users/aadelbouzambou/code/aadelboo/becode_projects/Thomas4/LGG-Thomas4/01-TheField/02-Python/02-PythonAdvanced/04-FileHandling/data/weather_2012.csv\n",
      "/Users/aadelbouzambou/code/aadelboo/becode_projects/Thomas4/LGG-Thomas4/01-TheField/02-Python/02-PythonAdvanced/04-FileHandling/data/VOEUX83.txt\n",
      "/Users/aadelbouzambou/code/aadelboo/becode_projects/Thomas4/LGG-Thomas4/01-TheField/02-Python/02-PythonAdvanced/04-FileHandling/data/data.txt\n",
      "/Users/aadelbouzambou/code/aadelboo/becode_projects/Thomas4/LGG-Thomas4/01-TheField/02-Python/02-PythonAdvanced/04-FileHandling/data/VOEUX94.txt\n",
      "/Users/aadelbouzambou/code/aadelboo/becode_projects/Thomas4/LGG-Thomas4/01-TheField/02-Python/02-PythonAdvanced/04-FileHandling/data/data_new.txt\n",
      "/Users/aadelbouzambou/code/aadelboo/becode_projects/Thomas4/LGG-Thomas4/01-TheField/02-Python/02-PythonAdvanced/04-FileHandling/data/lequipe-du sport en continu._files/getids\n",
      "/Users/aadelbouzambou/code/aadelboo/becode_projects/Thomas4/LGG-Thomas4/01-TheField/02-Python/02-PythonAdvanced/04-FileHandling/data/lequipe-du sport en continu._files/226ee.jpg\n",
      "/Users/aadelbouzambou/code/aadelboo/becode_projects/Thomas4/LGG-Thomas4/01-TheField/02-Python/02-PythonAdvanced/04-FileHandling/data/lequipe-du sport en continu._files/SVG-EFR(1).svg\n",
      "/Users/aadelbouzambou/code/aadelboo/becode_projects/Thomas4/LGG-Thomas4/01-TheField/02-Python/02-PythonAdvanced/04-FileHandling/data/lequipe-du sport en continu._files/275(4).jpg\n",
      "/Users/aadelbouzambou/code/aadelboo/becode_projects/Thomas4/LGG-Thomas4/01-TheField/02-Python/02-PythonAdvanced/04-FileHandling/data/lequipe-du sport en continu._files/f(3).txt\n",
      "/Users/aadelbouzambou/code/aadelboo/becode_projects/Thomas4/LGG-Thomas4/01-TheField/02-Python/02-PythonAdvanced/04-FileHandling/data/lequipe-du sport en continu._files/140(8).jpg\n",
      "/Users/aadelbouzambou/code/aadelboo/becode_projects/Thomas4/LGG-Thomas4/01-TheField/02-Python/02-PythonAdvanced/04-FileHandling/data/lequipe-du sport en continu._files/widgetGlobalEvent(2)\n",
      "/Users/aadelbouzambou/code/aadelboo/becode_projects/Thomas4/LGG-Thomas4/01-TheField/02-Python/02-PythonAdvanced/04-FileHandling/data/lequipe-du sport en continu._files/140(11).jpg\n",
      "/Users/aadelbouzambou/code/aadelboo/becode_projects/Thomas4/LGG-Thomas4/01-TheField/02-Python/02-PythonAdvanced/04-FileHandling/data/lequipe-du sport en continu._files/gen_204(1).gif\n",
      "/Users/aadelbouzambou/code/aadelboo/becode_projects/Thomas4/LGG-Thomas4/01-TheField/02-Python/02-PythonAdvanced/04-FileHandling/data/lequipe-du sport en continu._files/140(4).jpg\n",
      "/Users/aadelbouzambou/code/aadelboo/becode_projects/Thomas4/LGG-Thomas4/01-TheField/02-Python/02-PythonAdvanced/04-FileHandling/data/lequipe-du sport en continu._files/widgetGlobalEvent(1)\n",
      "/Users/aadelbouzambou/code/aadelboo/becode_projects/Thomas4/LGG-Thomas4/01-TheField/02-Python/02-PythonAdvanced/04-FileHandling/data/lequipe-du sport en continu._files/4f412.jpg\n",
      "/Users/aadelbouzambou/code/aadelboo/becode_projects/Thomas4/LGG-Thomas4/01-TheField/02-Python/02-PythonAdvanced/04-FileHandling/data/lequipe-du sport en continu._files/6uQTKQJz(1).html\n",
      "/Users/aadelbouzambou/code/aadelboo/becode_projects/Thomas4/LGG-Thomas4/01-TheField/02-Python/02-PythonAdvanced/04-FileHandling/data/lequipe-du sport en continu._files/hudactive.html\n",
      "/Users/aadelbouzambou/code/aadelboo/becode_projects/Thomas4/LGG-Thomas4/01-TheField/02-Python/02-PythonAdvanced/04-FileHandling/data/lequipe-du sport en continu._files/wonderpush.min.html\n",
      "/Users/aadelbouzambou/code/aadelboo/becode_projects/Thomas4/LGG-Thomas4/01-TheField/02-Python/02-PythonAdvanced/04-FileHandling/data/lequipe-du sport en continu._files/wamfactory_dpm.lequipe.min.js\n",
      "/Users/aadelbouzambou/code/aadelboo/becode_projects/Thomas4/LGG-Thomas4/01-TheField/02-Python/02-PythonAdvanced/04-FileHandling/data/lequipe-du sport en continu._files/140(5).jpg\n",
      "/Users/aadelbouzambou/code/aadelboo/becode_projects/Thomas4/LGG-Thomas4/01-TheField/02-Python/02-PythonAdvanced/04-FileHandling/data/lequipe-du sport en continu._files/140(10).jpg\n",
      "/Users/aadelbouzambou/code/aadelboo/becode_projects/Thomas4/LGG-Thomas4/01-TheField/02-Python/02-PythonAdvanced/04-FileHandling/data/lequipe-du sport en continu._files/V6zvOIoD.js\n",
      "/Users/aadelbouzambou/code/aadelboo/becode_projects/Thomas4/LGG-Thomas4/01-TheField/02-Python/02-PythonAdvanced/04-FileHandling/data/lequipe-du sport en continu._files/140(9).jpg\n",
      "/Users/aadelbouzambou/code/aadelboo/becode_projects/Thomas4/LGG-Thomas4/01-TheField/02-Python/02-PythonAdvanced/04-FileHandling/data/lequipe-du sport en continu._files/styles.css\n",
      "/Users/aadelbouzambou/code/aadelboo/becode_projects/Thomas4/LGG-Thomas4/01-TheField/02-Python/02-PythonAdvanced/04-FileHandling/data/lequipe-du sport en continu._files/275(5).jpg\n",
      "/Users/aadelbouzambou/code/aadelboo/becode_projects/Thomas4/LGG-Thomas4/01-TheField/02-Python/02-PythonAdvanced/04-FileHandling/data/lequipe-du sport en continu._files/f(2).txt\n",
      "/Users/aadelbouzambou/code/aadelboo/becode_projects/Thomas4/LGG-Thomas4/01-TheField/02-Python/02-PythonAdvanced/04-FileHandling/data/lequipe-du sport en continu._files/tag.min.js\n",
      "/Users/aadelbouzambou/code/aadelboo/becode_projects/Thomas4/LGG-Thomas4/01-TheField/02-Python/02-PythonAdvanced/04-FileHandling/data/lequipe-du sport en continu._files/44ddc.jpg\n",
      "/Users/aadelbouzambou/code/aadelboo/becode_projects/Thomas4/LGG-Thomas4/01-TheField/02-Python/02-PythonAdvanced/04-FileHandling/data/lequipe-du sport en continu._files/2402-245398-48616-4.gif\n",
      "/Users/aadelbouzambou/code/aadelboo/becode_projects/Thomas4/LGG-Thomas4/01-TheField/02-Python/02-PythonAdvanced/04-FileHandling/data/lequipe-du sport en continu._files/140(2).jpg\n",
      "/Users/aadelbouzambou/code/aadelboo/becode_projects/Thomas4/LGG-Thomas4/01-TheField/02-Python/02-PythonAdvanced/04-FileHandling/data/lequipe-du sport en continu._files/0a315.jpg\n",
      "/Users/aadelbouzambou/code/aadelboo/becode_projects/Thomas4/LGG-Thomas4/01-TheField/02-Python/02-PythonAdvanced/04-FileHandling/data/lequipe-du sport en continu._files/f(9).txt\n",
      "/Users/aadelbouzambou/code/aadelboo/becode_projects/Thomas4/LGG-Thomas4/01-TheField/02-Python/02-PythonAdvanced/04-FileHandling/data/lequipe-du sport en continu._files/widgetGlobalEvent\n",
      "/Users/aadelbouzambou/code/aadelboo/becode_projects/Thomas4/LGG-Thomas4/01-TheField/02-Python/02-PythonAdvanced/04-FileHandling/data/lequipe-du sport en continu._files/275.jpg\n",
      "/Users/aadelbouzambou/code/aadelboo/becode_projects/Thomas4/LGG-Thomas4/01-TheField/02-Python/02-PythonAdvanced/04-FileHandling/data/lequipe-du sport en continu._files/275(2).jpg\n",
      "/Users/aadelbouzambou/code/aadelboo/becode_projects/Thomas4/LGG-Thomas4/01-TheField/02-Python/02-PythonAdvanced/04-FileHandling/data/lequipe-du sport en continu._files/f(5).txt\n",
      "/Users/aadelbouzambou/code/aadelboo/becode_projects/Thomas4/LGG-Thomas4/01-TheField/02-Python/02-PythonAdvanced/04-FileHandling/data/lequipe-du sport en continu._files/0d3f9.png\n",
      "/Users/aadelbouzambou/code/aadelboo/becode_projects/Thomas4/LGG-Thomas4/01-TheField/02-Python/02-PythonAdvanced/04-FileHandling/data/lequipe-du sport en continu._files/30b06.jpg\n",
      "/Users/aadelbouzambou/code/aadelboo/becode_projects/Thomas4/LGG-Thomas4/01-TheField/02-Python/02-PythonAdvanced/04-FileHandling/data/lequipe-du sport en continu._files/275(3).jpg\n",
      "/Users/aadelbouzambou/code/aadelboo/becode_projects/Thomas4/LGG-Thomas4/01-TheField/02-Python/02-PythonAdvanced/04-FileHandling/data/lequipe-du sport en continu._files/f(4).txt\n",
      "/Users/aadelbouzambou/code/aadelboo/becode_projects/Thomas4/LGG-Thomas4/01-TheField/02-Python/02-PythonAdvanced/04-FileHandling/data/lequipe-du sport en continu._files/3c6f0.jpg\n",
      "/Users/aadelbouzambou/code/aadelboo/becode_projects/Thomas4/LGG-Thomas4/01-TheField/02-Python/02-PythonAdvanced/04-FileHandling/data/lequipe-du sport en continu._files/get\n",
      "/Users/aadelbouzambou/code/aadelboo/becode_projects/Thomas4/LGG-Thomas4/01-TheField/02-Python/02-PythonAdvanced/04-FileHandling/data/lequipe-du sport en continu._files/6636b.jpg\n",
      "/Users/aadelbouzambou/code/aadelboo/becode_projects/Thomas4/LGG-Thomas4/01-TheField/02-Python/02-PythonAdvanced/04-FileHandling/data/lequipe-du sport en continu._files/fb0a7.jpg\n",
      "/Users/aadelbouzambou/code/aadelboo/becode_projects/Thomas4/LGG-Thomas4/01-TheField/02-Python/02-PythonAdvanced/04-FileHandling/data/lequipe-du sport en continu._files/110.png\n",
      "/Users/aadelbouzambou/code/aadelboo/becode_projects/Thomas4/LGG-Thomas4/01-TheField/02-Python/02-PythonAdvanced/04-FileHandling/data/lequipe-du sport en continu._files/widget.js\n",
      "/Users/aadelbouzambou/code/aadelboo/becode_projects/Thomas4/LGG-Thomas4/01-TheField/02-Python/02-PythonAdvanced/04-FileHandling/data/lequipe-du sport en continu._files/f(8).txt\n",
      "/Users/aadelbouzambou/code/aadelboo/becode_projects/Thomas4/LGG-Thomas4/01-TheField/02-Python/02-PythonAdvanced/04-FileHandling/data/lequipe-du sport en continu._files/140(3).jpg\n",
      "/Users/aadelbouzambou/code/aadelboo/becode_projects/Thomas4/LGG-Thomas4/01-TheField/02-Python/02-PythonAdvanced/04-FileHandling/data/lequipe-du sport en continu._files/gather_id\n",
      "/Users/aadelbouzambou/code/aadelboo/becode_projects/Thomas4/LGG-Thomas4/01-TheField/02-Python/02-PythonAdvanced/04-FileHandling/data/lequipe-du sport en continu._files/0f245.jpg\n",
      "/Users/aadelbouzambou/code/aadelboo/becode_projects/Thomas4/LGG-Thomas4/01-TheField/02-Python/02-PythonAdvanced/04-FileHandling/data/lequipe-du sport en continu._files/get(1)\n",
      "/Users/aadelbouzambou/code/aadelboo/becode_projects/Thomas4/LGG-Thomas4/01-TheField/02-Python/02-PythonAdvanced/04-FileHandling/data/lequipe-du sport en continu._files/ads-cch-20181026165210.js\n",
      "/Users/aadelbouzambou/code/aadelboo/becode_projects/Thomas4/LGG-Thomas4/01-TheField/02-Python/02-PythonAdvanced/04-FileHandling/data/lequipe-du sport en continu._files/1x1.a\n",
      "/Users/aadelbouzambou/code/aadelboo/becode_projects/Thomas4/LGG-Thomas4/01-TheField/02-Python/02-PythonAdvanced/04-FileHandling/data/lequipe-du sport en continu._files/gen_204.gif\n",
      "/Users/aadelbouzambou/code/aadelboo/becode_projects/Thomas4/LGG-Thomas4/01-TheField/02-Python/02-PythonAdvanced/04-FileHandling/data/lequipe-du sport en continu._files/3b4c8.jpg\n",
      "/Users/aadelbouzambou/code/aadelboo/becode_projects/Thomas4/LGG-Thomas4/01-TheField/02-Python/02-PythonAdvanced/04-FileHandling/data/lequipe-du sport en continu._files/get(2)\n",
      "/Users/aadelbouzambou/code/aadelboo/becode_projects/Thomas4/LGG-Thomas4/01-TheField/02-Python/02-PythonAdvanced/04-FileHandling/data/lequipe-du sport en continu._files/f(7).txt\n",
      "/Users/aadelbouzambou/code/aadelboo/becode_projects/Thomas4/LGG-Thomas4/01-TheField/02-Python/02-PythonAdvanced/04-FileHandling/data/lequipe-du sport en continu._files/widget.css\n",
      "/Users/aadelbouzambou/code/aadelboo/becode_projects/Thomas4/LGG-Thomas4/01-TheField/02-Python/02-PythonAdvanced/04-FileHandling/data/lequipe-du sport en continu._files/guid.html\n",
      "/Users/aadelbouzambou/code/aadelboo/becode_projects/Thomas4/LGG-Thomas4/01-TheField/02-Python/02-PythonAdvanced/04-FileHandling/data/lequipe-du sport en continu._files/275(1).jpg\n",
      "/Users/aadelbouzambou/code/aadelboo/becode_projects/Thomas4/LGG-Thomas4/01-TheField/02-Python/02-PythonAdvanced/04-FileHandling/data/lequipe-du sport en continu._files/f(6).txt\n",
      "/Users/aadelbouzambou/code/aadelboo/becode_projects/Thomas4/LGG-Thomas4/01-TheField/02-Python/02-PythonAdvanced/04-FileHandling/data/lequipe-du sport en continu._files/gpt.js\n",
      "/Users/aadelbouzambou/code/aadelboo/becode_projects/Thomas4/LGG-Thomas4/01-TheField/02-Python/02-PythonAdvanced/04-FileHandling/data/lequipe-du sport en continu._files/0CA20181029124202ADs201810291242024F98d8q4aBxcs.js\n",
      "/Users/aadelbouzambou/code/aadelboo/becode_projects/Thomas4/LGG-Thomas4/01-TheField/02-Python/02-PythonAdvanced/04-FileHandling/data/lequipe-du sport en continu._files/6uQTKQJz.html\n",
      "/Users/aadelbouzambou/code/aadelboo/becode_projects/Thomas4/LGG-Thomas4/01-TheField/02-Python/02-PythonAdvanced/04-FileHandling/data/lequipe-du sport en continu._files/125278988146629\n",
      "/Users/aadelbouzambou/code/aadelboo/becode_projects/Thomas4/LGG-Thomas4/01-TheField/02-Python/02-PythonAdvanced/04-FileHandling/data/lequipe-du sport en continu._files/f.txt\n",
      "/Users/aadelbouzambou/code/aadelboo/becode_projects/Thomas4/LGG-Thomas4/01-TheField/02-Python/02-PythonAdvanced/04-FileHandling/data/lequipe-du sport en continu._files/140(1).jpg\n",
      "/Users/aadelbouzambou/code/aadelboo/becode_projects/Thomas4/LGG-Thomas4/01-TheField/02-Python/02-PythonAdvanced/04-FileHandling/data/lequipe-du sport en continu._files/fbevents.js\n",
      "/Users/aadelbouzambou/code/aadelboo/becode_projects/Thomas4/LGG-Thomas4/01-TheField/02-Python/02-PythonAdvanced/04-FileHandling/data/lequipe-du sport en continu._files/SVG-EFR.svg\n",
      "/Users/aadelbouzambou/code/aadelboo/becode_projects/Thomas4/LGG-Thomas4/01-TheField/02-Python/02-PythonAdvanced/04-FileHandling/data/lequipe-du sport en continu._files/49d3b.jpg\n",
      "/Users/aadelbouzambou/code/aadelboo/becode_projects/Thomas4/LGG-Thomas4/01-TheField/02-Python/02-PythonAdvanced/04-FileHandling/data/lequipe-du sport en continu._files/f3de7.jpg\n",
      "/Users/aadelbouzambou/code/aadelboo/becode_projects/Thomas4/LGG-Thomas4/01-TheField/02-Python/02-PythonAdvanced/04-FileHandling/data/lequipe-du sport en continu._files/140.jpg\n",
      "/Users/aadelbouzambou/code/aadelboo/becode_projects/Thomas4/LGG-Thomas4/01-TheField/02-Python/02-PythonAdvanced/04-FileHandling/data/lequipe-du sport en continu._files/140(6).jpg\n",
      "/Users/aadelbouzambou/code/aadelboo/becode_projects/Thomas4/LGG-Thomas4/01-TheField/02-Python/02-PythonAdvanced/04-FileHandling/data/lequipe-du sport en continu._files/6f4bb.jpg\n",
      "/Users/aadelbouzambou/code/aadelboo/becode_projects/Thomas4/LGG-Thomas4/01-TheField/02-Python/02-PythonAdvanced/04-FileHandling/data/lequipe-du sport en continu._files/2402-245398-48616-4(1).gif\n",
      "/Users/aadelbouzambou/code/aadelboo/becode_projects/Thomas4/LGG-Thomas4/01-TheField/02-Python/02-PythonAdvanced/04-FileHandling/data/lequipe-du sport en continu._files/800(1).jpg\n",
      "/Users/aadelbouzambou/code/aadelboo/becode_projects/Thomas4/LGG-Thomas4/01-TheField/02-Python/02-PythonAdvanced/04-FileHandling/data/lequipe-du sport en continu._files/html_inpage_rendering_lib_200_243.js\n",
      "/Users/aadelbouzambou/code/aadelboo/becode_projects/Thomas4/LGG-Thomas4/01-TheField/02-Python/02-PythonAdvanced/04-FileHandling/data/lequipe-du sport en continu._files/800.jpg\n",
      "/Users/aadelbouzambou/code/aadelboo/becode_projects/Thomas4/LGG-Thomas4/01-TheField/02-Python/02-PythonAdvanced/04-FileHandling/data/lequipe-du sport en continu._files/wonderpush.min.js\n",
      "/Users/aadelbouzambou/code/aadelboo/becode_projects/Thomas4/LGG-Thomas4/01-TheField/02-Python/02-PythonAdvanced/04-FileHandling/data/lequipe-du sport en continu._files/gather_id(1)\n",
      "/Users/aadelbouzambou/code/aadelboo/becode_projects/Thomas4/LGG-Thomas4/01-TheField/02-Python/02-PythonAdvanced/04-FileHandling/data/lequipe-du sport en continu._files/67b5b.jpg\n",
      "/Users/aadelbouzambou/code/aadelboo/becode_projects/Thomas4/LGG-Thomas4/01-TheField/02-Python/02-PythonAdvanced/04-FileHandling/data/lequipe-du sport en continu._files/f(10).txt\n",
      "/Users/aadelbouzambou/code/aadelboo/becode_projects/Thomas4/LGG-Thomas4/01-TheField/02-Python/02-PythonAdvanced/04-FileHandling/data/lequipe-du sport en continu._files/140(7).jpg\n",
      "/Users/aadelbouzambou/code/aadelboo/becode_projects/Thomas4/LGG-Thomas4/01-TheField/02-Python/02-PythonAdvanced/04-FileHandling/data/lequipe-du sport en continu._files/201b8.jpg\n",
      "/Users/aadelbouzambou/code/aadelboo/becode_projects/Thomas4/LGG-Thomas4/01-TheField/02-Python/02-PythonAdvanced/04-FileHandling/data/lequipe-du sport en continu._files/20d4b.jpg\n",
      "/Users/aadelbouzambou/code/aadelboo/becode_projects/Thomas4/LGG-Thomas4/01-TheField/02-Python/02-PythonAdvanced/04-FileHandling/data/lequipe-du sport en continu._files/1ce06.jpg\n",
      "/Users/aadelbouzambou/code/aadelboo/becode_projects/Thomas4/LGG-Thomas4/01-TheField/02-Python/02-PythonAdvanced/04-FileHandling/data/lequipe-du sport en continu._files/wonderpush-loader.min.js\n",
      "/Users/aadelbouzambou/code/aadelboo/becode_projects/Thomas4/LGG-Thomas4/01-TheField/02-Python/02-PythonAdvanced/04-FileHandling/data/lequipe-du sport en continu._files/f21a9.jpg\n"
     ]
    }
   ],
   "source": [
    "folder_path = os.path.abspath(\"./\")\n",
    "#print(folder_path)\n",
    "\n",
    "for path, dirs, files in os.walk(folder_path):\n",
    "    for filename in files:\n",
    "        print(os.path.join(path, filename))\n",
    "        pass"
   ]
  },
  {
   "cell_type": "markdown",
   "metadata": {},
   "source": [
    "Create a list of all the **`.txt` files** from the `data/` directory"
   ]
  },
  {
   "cell_type": "code",
   "execution_count": 170,
   "metadata": {},
   "outputs": [
    {
     "name": "stdout",
     "output_type": "stream",
     "text": [
      "['VOEUX74.txt', 'VOEUX75.txt', 'VOEUX89.txt', 'VOEUX05.txt', 'final.txt', 'VOEUX06.txt', 'VOEUX07.txt', 'mail.txt', 'VOEUX01.txt', 'write.txt', 'VOEUX09.txt', 'VOEUX08.txt', 'VOEUX90.txt', 'VOEUX87.txt', 'VOEUX79.txt', 'VOEUX83.txt', 'data.txt', 'VOEUX94.txt', 'data_new.txt']\n"
     ]
    }
   ],
   "source": [
    "\n",
    "txt_files = []\n",
    "folder_path = \"./data/\"\n",
    "for file in os.listdir(folder_path):\n",
    "    if file.endswith(\".txt\"):\n",
    "        txt_files.append(file)\n",
    "print(txt_files)"
   ]
  },
  {
   "cell_type": "markdown",
   "metadata": {},
   "source": [
    "Open all the files of the list, and add their content into a new file `final.txt` that you will create in `data/`."
   ]
  },
  {
   "cell_type": "code",
   "execution_count": 173,
   "metadata": {},
   "outputs": [
    {
     "name": "stdout",
     "output_type": "stream",
     "text": [
      "Contents of all .txt files have been written to ./data/final.txt\n"
     ]
    }
   ],
   "source": [
    "files = \"final.txt\"\n",
    "\n",
    "with open(os.path.join(folder_path, files), \"w\",encoding=\"utf-8\") as new_file:\n",
    "    for text in txt_files:\n",
    "        with open(os.path.join(folder_path, text), \"r\", encoding=\"latin-1\") as text_to_add:\n",
    "            content = text_to_add.read()\n",
    "            new_file.write(content + \"\\n\")\n",
    "        #with open(text)"
   ]
  }
 ],
 "metadata": {
  "kernelspec": {
   "display_name": "Python 3.10.5 64-bit",
   "language": "python",
   "name": "python3"
  },
  "language_info": {
   "codemirror_mode": {
    "name": "ipython",
    "version": 3
   },
   "file_extension": ".py",
   "mimetype": "text/x-python",
   "name": "python",
   "nbconvert_exporter": "python",
   "pygments_lexer": "ipython3",
   "version": "3.11.9"
  },
  "vscode": {
   "interpreter": {
    "hash": "aee8b7b246df8f9039afb4144a1f6fd8d2ca17a180786b69acc140d282b71a49"
   }
  }
 },
 "nbformat": 4,
 "nbformat_minor": 2
}
