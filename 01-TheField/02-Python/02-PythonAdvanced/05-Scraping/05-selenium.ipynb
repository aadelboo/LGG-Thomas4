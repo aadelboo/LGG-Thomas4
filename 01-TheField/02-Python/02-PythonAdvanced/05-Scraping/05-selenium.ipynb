{
 "cells": [
  {
   "cell_type": "markdown",
   "metadata": {},
   "source": [
    "# Scraping with Selenium\n",
    "\n",
    "A lot of modern websites relies on Javascript to navigate dynamically in the content. However the usual Python web scrapers (like `requests`) are not able to execute javascript. Since then they are struggling in getting the content of dynamic web pages.\n",
    "\n",
    "Selenium is THE solution for tackling this problem. Initially it has been created to automate tests on websites. It will open your browser _for real_ and allow you to simulate human interactions in website through Python commands.\n",
    "\n",
    "For example it can be useful when information is accessible by clicking on buttons (which is not possible with `requests` and `beautifulsoup`)."
   ]
  },
  {
   "cell_type": "markdown",
   "metadata": {},
   "source": [
    "### Install Selenium according to this manual\n",
    "\n",
    "https://selenium-python.readthedocs.io/installation.html#downloading-python-bindings-for-selenium/bin\n",
    "\n",
    "*NB: On Linux, put your `geckodriver` (the downloaded extension) in the equivalent path on your machine into `/home/<YOUR_NAME>/.local/bin/`*"
   ]
  },
  {
   "cell_type": "code",
   "execution_count": 9,
   "metadata": {},
   "outputs": [],
   "source": [
    "# The selenium.webdriver module provides all the implementations of WebDriver\n",
    "# Currently supported are Firefox, Chrome, IE and Remote. The `Keys` class provides keys on\n",
    "# the keyboard such as RETURN, F1, ALT etc.\n",
    "from selenium import webdriver\n",
    "from selenium.webdriver.common.keys import Keys\n",
    "from selenium.webdriver.common.by import By"
   ]
  },
  {
   "cell_type": "markdown",
   "metadata": {},
   "source": [
    "### Search engine simulation"
   ]
  },
  {
   "cell_type": "markdown",
   "metadata": {},
   "source": [
    "We will simulate a query on the official Python website by using the search bar."
   ]
  },
  {
   "cell_type": "code",
   "execution_count": 10,
   "metadata": {},
   "outputs": [],
   "source": [
    "# Here, we create instance of Firefox WebDriver.\n",
    "driver = webdriver.Firefox()\n",
    "\n",
    "# The driver.get method will lead to a page given by the URL. WebDriver will wait until the page is fully\n",
    "# loaded (i.e. the \"onload\" event has been triggered) before returning the control to your script.\n",
    "# It should be noted that if your page uses a lot of AJAX calls when loading, WebDriver may not know\n",
    "# when it was fully loaded.\n",
    "driver.get(\"http://www.python.org\")\n",
    "\n",
    "# The following line is a statement confirming that the title contains the word \"Python\".\n",
    "assert \"Python\" in driver.title\n",
    "\n",
    "# WebDriver offers a method `find_element` that aims to search for item based on attributes\n",
    "# For example, the input text element can be located by its name attribute by\n",
    "# using the attribute `name` with the value `q`\n",
    "elem = driver.find_element(By.NAME, \"q\")\n",
    "\n",
    "# Then we send keys. This is similar to entering keys using your keyboard.\n",
    "# Special keys can be sent using the `Keys` class imported in line 7 (from selenium.webdriver.common.keys import Keys).\n",
    "# For security reasons, we will delete any pre-filled text in the input field\n",
    "# (for example, \"Search\") so that it does not affect our search results:\n",
    "elem.clear()\n",
    "elem.send_keys(\"pycon\")\n",
    "elem.send_keys(Keys.RETURN)\n",
    "\n",
    "# After submitting the page, you should get the result if there is one. To ensure that certain results\n",
    "# are found, make an assertion that ensures that the source page does not contain the word \"No results found\".\n",
    "assert \"No results found.\" not in driver.page_source\n",
    "driver.close()"
   ]
  },
  {
   "cell_type": "markdown",
   "metadata": {},
   "source": [
    "### Getting the title of all the articles from the homepage of _The New York Times_\n",
    "\n",
    "First let's open the homepage of the newspaper's website.\n"
   ]
  },
  {
   "cell_type": "code",
   "execution_count": 28,
   "metadata": {},
   "outputs": [],
   "source": [
    "url = \"https://www.nytimes.com/\"\n",
    "\n",
    "driver = webdriver.Firefox()\n",
    "driver.get(url)"
   ]
  },
  {
   "cell_type": "markdown",
   "metadata": {},
   "source": [
    "As you can see, you are facing the famous GDPR banner. Let's accept it in order to access the page!"
   ]
  },
  {
   "cell_type": "code",
   "execution_count": 23,
   "metadata": {},
   "outputs": [],
   "source": [
    "cookie_button = driver.find_element(By.XPATH, \"//button[@data-testid='Accept all-btn']\")\n",
    "cookie_button.click()"
   ]
  },
  {
   "cell_type": "markdown",
   "metadata": {},
   "source": [
    "Now let's get all the titles of the articles by using XPATH and let's store them in a list\n"
   ]
  },
  {
   "cell_type": "code",
   "execution_count": 24,
   "metadata": {},
   "outputs": [
    {
     "data": {
      "text/plain": [
       "[]"
      ]
     },
     "execution_count": 24,
     "metadata": {},
     "output_type": "execute_result"
    }
   ],
   "source": [
    "article_titles = driver.find_elements(By.XPATH, \"//section[@class='story-wrapper']// p//p[@class='indicate-hover css-1gg6cw2']\")\n",
    "all_titles = []\n",
    "for title in article_titles:\n",
    "    all_titles.append(title.text)\n",
    "\n",
    "all_titles"
   ]
  },
  {
   "cell_type": "markdown",
   "metadata": {},
   "source": [
    "Here we are ! Let's close the browser then !"
   ]
  },
  {
   "cell_type": "code",
   "execution_count": null,
   "metadata": {},
   "outputs": [],
   "source": [
    "driver.close()"
   ]
  },
  {
   "cell_type": "markdown",
   "metadata": {},
   "source": [
    "### Exercise\n",
    "\n",
    "1. Use Selenium for opening the homepage of your favourite newspaper (not the New York Times, too easy)\n",
    "2. Close the cookie banner (if it appears)\n",
    "3. Get the link of the first article of the page and open it\n",
    "4. Print the title and the content of the article\n",
    "\n",
    "**tip:** [Newspaper3k](https://pypi.org/project/newspaper3k/) is a powerful library for scraping articles from newspapers. Have a look to the `fulltext` method."
   ]
  },
  {
   "cell_type": "code",
   "execution_count": 30,
   "metadata": {},
   "outputs": [
    {
     "data": {
      "text/plain": [
       "[\"Après Barry Callebaut et FedEx, Ontex sabre à son tour dans l'emploi\",\n",
       " 'Gouvernement wallon: objectif 16 juillet pour le MR et Les Engagés?',\n",
       " \"Une double casquette, pour Georges-Louis Bouchez ou d'autres, quel est l'intérêt?\",\n",
       " 'Good Move à Bruxelles: le MR peut-il vraiment tout jeter\\u202f?',\n",
       " 'La garde rapprochée qui va assister Maxime Prévot dans les négociations',\n",
       " '',\n",
       " '',\n",
       " '',\n",
       " 'Ce que changerait la suppression des droits de succession en Wallonie',\n",
       " \"Une double casquette, pour Georges-Louis Bouchez ou d'autres, quel est l'intérêt?\",\n",
       " \"Quel serait l'impact de la coalition MR-Les Engagés sur le portefeuille des Wallons?\",\n",
       " \"Nicolai Tangen, fer de lance d'un capitalisme plus éthique\",\n",
       " \"Avec l'Alpine A290, Renault prend le virage du Premium électrique\",\n",
       " 'Tracker Talk | Comment suivre le virage des banques centrales sur les taux?',\n",
       " \"Le G7 s'accorde sur un prêt de 50 milliards de dollars à Kiev garanti par les avoirs russes gelés\",\n",
       " \"Élections 2024 | Ecolo élira sa nouvelle coprésidence d'ici au 21 juillet\",\n",
       " 'Le marché savoure l’accord entre Lotus et Mondelez',\n",
       " \"Suivre la situation au Moyen-Orient | Le Hezbollah libanais lance de nouvelles attaques contre l'armée israélienne\",\n",
       " \"À la veille d'une hausse de ses tarifs, Ores en opération séduction auprès des communes\",\n",
       " \"Une double casquette, pour Georges-Louis Bouchez ou d'autres, quel est l'intérêt?\",\n",
       " 'Ce que changerait la suppression des droits de succession en Wallonie',\n",
       " 'Broadcom gonfle de 100 milliards de dollars à Wall Street après l\\'annonce d\\'un \"stock-split\" façon Nvidia',\n",
       " 'Umicore chute encore | Avis de brokers sur Lotus, UCB, Umicore et Colruyt | Eurocommercial ex-coupon (+Briefing)',\n",
       " 'Les avantages et les inconvénients fiscaux de la pension alimentaire',\n",
       " 'Guide Impôts | Tout savoir sur votre déclaration fiscale 2024',\n",
       " 'Huit formes de rémunération que vous ne devez pas déclarer',\n",
       " '',\n",
       " '',\n",
       " '',\n",
       " 'Qui est Ben Storms? Le Belge fait son début au salon du design le plus prestigieux du monde',\n",
       " \"Le tapis léopard comme touche d'intérieur | 'Les gens vont te prendre pour un dictateur africain!'\",\n",
       " 'Pour quel chanteur Jamie Oliver préparait-t-il un steak de picanha sur son barbecue Weber Genesis?',\n",
       " '',\n",
       " '',\n",
       " '',\n",
       " 'Comment s’entourer pour éclore? Yaka!',\n",
       " 'Tracker #47 | Celui qui veut partager \"Le Pactole\"',\n",
       " 'Plus de 500.000 Wallons pourraient être touchés par des inondations',\n",
       " 'Un Bruxellois sur deux a déjà une borne de recharge électrique à moins de 150 mètres de chez lui',\n",
       " 'Les 10 sujets dont vous allez parler en 2024',\n",
       " '',\n",
       " '',\n",
       " '',\n",
       " 'Olivier Villepreux: \"Le football est un miroir grossissant de la mentalité d\\'une société\"',\n",
       " 'Ce que changerait la suppression des droits de succession en Wallonie',\n",
       " \"Quel serait l'impact de la coalition MR-Les Engagés sur le portefeuille des Wallons?\",\n",
       " 'Expatriation, donation, déménagement: trois scénarios pour votre succession',\n",
       " 'Deux tiers des indépendants prennent leur pension avant 65 ans',\n",
       " 'Un crédit hypothécaire est-il encore fiscalement intéressant?',\n",
       " 'L’actrice Samantha Morton s’impose aussi comme chanteuse',\n",
       " 'Elle a pris le large, Françoise Hardy',\n",
       " 'Françoise Hardy nous dit adieu',\n",
       " 'Quels impôts payez-vous dans votre commune?',\n",
       " 'Comment acheter son bien immobilier en 7 étapes',\n",
       " 'Les convergences MR-Les Engagés pour booster l’emploi en Wallonie',\n",
       " 'Gouvernement wallon: objectif 16 juillet pour le MR et Les Engagés?',\n",
       " \"Suivre la situation au Moyen-Orient | Le Hezbollah libanais lance de nouvelles attaques contre l'armée israélienne\",\n",
       " \"Le G7 s'accorde sur un prêt de 50 milliards de dollars à Kiev garanti par les avoirs russes gelés\",\n",
       " \"Une double casquette, pour Georges-Louis Bouchez ou d'autres, quel est l'intérêt?\",\n",
       " \"Avec l'Alpine A290, Renault prend le virage du Premium électrique\",\n",
       " \"Nicolai Tangen, fer de lance d'un capitalisme plus éthique\",\n",
       " \"Après Barry Callebaut et FedEx, Ontex sabre à son tour dans l'emploi\",\n",
       " \"À la veille d'une hausse de ses tarifs, Ores en opération séduction auprès des communes\",\n",
       " \"AB InBev numéro 1 de l'écart salarial, une mesure de plus en plus contestée\",\n",
       " 'Les convergences MR-Les Engagés pour booster l’emploi en Wallonie',\n",
       " 'Gouvernement wallon: objectif 16 juillet pour le MR et Les Engagés?',\n",
       " \"Une double casquette, pour Georges-Louis Bouchez ou d'autres, quel est l'intérêt?\",\n",
       " \"Le G7 s'accorde sur un prêt de 50 milliards de dollars à Kiev garanti par les avoirs russes gelés\",\n",
       " \"L'Otan s'apprête à pérenniser son aide militaire à l'Ukraine\",\n",
       " \"À Berlin, un marathon débute sur l'avenir de l'Ukraine\",\n",
       " \"Suivre la situation au Moyen-Orient | Le Hezbollah libanais lance de nouvelles attaques contre l'armée israélienne\",\n",
       " 'Guerre Israël-Hamas: le centriste Benny Gantz quitte le cabinet de guerre de Netanyahu',\n",
       " \"Suivre la situation au Moyen-Orient | Reprise de la livraison de l'aide à Gaza à partir de la jetée temporaire américaine\"]"
      ]
     },
     "execution_count": 30,
     "metadata": {},
     "output_type": "execute_result"
    }
   ],
   "source": [
    "url = \"https://www.lecho.be/\"\n",
    "driver = webdriver.Chrome()\n",
    "driver.get(url)\n",
    "\n",
    "cookie_button = driver.find_element(By.XPATH, \"//button[@aria-label='Accepter & Fermer: Accepter notre traitement des données et fermer']\")\n",
    "cookie_button.click()\n",
    "\n",
    "article_titles = driver.find_elements(By.XPATH, \"//a[@class='c-articleteaser__link gtm-article-teaser-link']\")\n",
    "all_titles = []\n",
    "for title in article_titles:\n",
    "    all_titles.append(title.text)\n",
    "\n",
    "all_titles\n"
   ]
  }
 ],
 "metadata": {
  "kernelspec": {
   "display_name": "Python 3.10.5 ('infosessionvenv')",
   "language": "python",
   "name": "python3"
  },
  "language_info": {
   "codemirror_mode": {
    "name": "ipython",
    "version": 3
   },
   "file_extension": ".py",
   "mimetype": "text/x-python",
   "name": "python",
   "nbconvert_exporter": "python",
   "pygments_lexer": "ipython3",
   "version": "3.12.3"
  },
  "vscode": {
   "interpreter": {
    "hash": "661c13da0699b4d3adfbe1192573631e3fbd9fa55405ad8c238e615a4e7e8a33"
   }
  }
 },
 "nbformat": 4,
 "nbformat_minor": 2
}
