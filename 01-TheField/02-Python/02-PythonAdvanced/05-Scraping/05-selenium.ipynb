{
 "cells": [
  {
   "cell_type": "markdown",
   "metadata": {},
   "source": [
    "# Scraping with Selenium\n",
    "\n",
    "A lot of modern websites relies on Javascript to navigate dynamically in the content. However the usual Python web scrapers (like `requests`) are not able to execute javascript. Since then they are struggling in getting the content of dynamic web pages.\n",
    "\n",
    "Selenium is THE solution for tackling this problem. Initially it has been created to automate tests on websites. It will open your browser _for real_ and allow you to simulate human interactions in website through Python commands.\n",
    "\n",
    "For example it can be useful when information is accessible by clicking on buttons (which is not possible with `requests` and `beautifulsoup`)."
   ]
  },
  {
   "cell_type": "markdown",
   "metadata": {},
   "source": [
    "### Install Selenium according to this manual\n",
    "\n",
    "https://selenium-python.readthedocs.io/installation.html#downloading-python-bindings-for-selenium/bin\n",
    "\n",
    "*NB: On Linux, put your `geckodriver` (the downloaded extension) in the equivalent path on your machine into `/home/<YOUR_NAME>/.local/bin/`*"
   ]
  },
  {
   "cell_type": "code",
   "execution_count": 2,
   "metadata": {},
   "outputs": [],
   "source": [
    "# The selenium.webdriver module provides all the implementations of WebDriver\n",
    "# Currently supported are Firefox, Chrome, IE and Remote. The `Keys` class provides keys on\n",
    "# the keyboard such as RETURN, F1, ALT etc.\n",
    "from selenium import webdriver\n",
    "from selenium.webdriver.common.keys import Keys\n",
    "from selenium.webdriver.common.by import By"
   ]
  },
  {
   "cell_type": "markdown",
   "metadata": {},
   "source": [
    "### Search engine simulation"
   ]
  },
  {
   "cell_type": "markdown",
   "metadata": {},
   "source": [
    "We will simulate a query on the official Python website by using the search bar."
   ]
  },
  {
   "cell_type": "code",
   "execution_count": 3,
   "metadata": {},
   "outputs": [],
   "source": [
    "# Here, we create instance of Firefox WebDriver.\n",
    "driver = webdriver.Firefox()\n",
    "\n",
    "# The driver.get method will lead to a page given by the URL. WebDriver will wait until the page is fully\n",
    "# loaded (i.e. the \"onload\" event has been triggered) before returning the control to your script.\n",
    "# It should be noted that if your page uses a lot of AJAX calls when loading, WebDriver may not know\n",
    "# when it was fully loaded.\n",
    "driver.get(\"http://www.python.org\")\n",
    "\n",
    "# The following line is a statement confirming that the title contains the word \"Python\".\n",
    "assert \"Python\" in driver.title\n",
    "\n",
    "# WebDriver offers a method `find_element` that aims to search for item based on attributes\n",
    "# For example, the input text element can be located by its name attribute by\n",
    "# using the attribute `name` with the value `q`\n",
    "elem = driver.find_element(By.NAME, \"q\")\n",
    "\n",
    "# Then we send keys. This is similar to entering keys using your keyboard.\n",
    "# Special keys can be sent using the `Keys` class imported in line 7 (from selenium.webdriver.common.keys import Keys).\n",
    "# For security reasons, we will delete any pre-filled text in the input field\n",
    "# (for example, \"Search\") so that it does not affect our search results:\n",
    "elem.clear()\n",
    "elem.send_keys(\"pycon\")\n",
    "elem.send_keys(Keys.RETURN)\n",
    "\n",
    "# After submitting the page, you should get the result if there is one. To ensure that certain results\n",
    "# are found, make an assertion that ensures that the source page does not contain the word \"No results found\".\n",
    "assert \"No results found.\" not in driver.page_source\n",
    "driver.close()"
   ]
  },
  {
   "cell_type": "markdown",
   "metadata": {},
   "source": [
    "### Getting the title of all the articles from the homepage of _The New York Times_\n",
    "\n",
    "First let's open the homepage of the newspaper's website.\n"
   ]
  },
  {
   "cell_type": "code",
   "execution_count": 4,
   "metadata": {},
   "outputs": [],
   "source": [
    "url = \"https://www.nytimes.com/\"\n",
    "\n",
    "driver = webdriver.Firefox()\n",
    "driver.get(url)"
   ]
  },
  {
   "cell_type": "markdown",
   "metadata": {},
   "source": [
    "As you can see, you are facing the famous GDPR banner. Let's accept it in order to access the page!"
   ]
  },
  {
   "cell_type": "code",
   "execution_count": 5,
   "metadata": {},
   "outputs": [
    {
     "ename": "NoSuchElementException",
     "evalue": "Message: Unable to locate element: //button[@data-testid='Accept all-btn']; For documentation on this error, please visit: https://www.selenium.dev/documentation/webdriver/troubleshooting/errors#no-such-element-exception\nStacktrace:\nRemoteError@chrome://remote/content/shared/RemoteError.sys.mjs:8:8\nWebDriverError@chrome://remote/content/shared/webdriver/Errors.sys.mjs:193:5\nNoSuchElementError@chrome://remote/content/shared/webdriver/Errors.sys.mjs:511:5\ndom.find/</<@chrome://remote/content/shared/DOM.sys.mjs:136:16\n",
     "output_type": "error",
     "traceback": [
      "\u001b[0;31m---------------------------------------------------------------------------\u001b[0m",
      "\u001b[0;31mNoSuchElementException\u001b[0m                    Traceback (most recent call last)",
      "Cell \u001b[0;32mIn[5], line 1\u001b[0m\n\u001b[0;32m----> 1\u001b[0m cookie_button \u001b[38;5;241m=\u001b[39m \u001b[43mdriver\u001b[49m\u001b[38;5;241;43m.\u001b[39;49m\u001b[43mfind_element\u001b[49m\u001b[43m(\u001b[49m\u001b[43mBy\u001b[49m\u001b[38;5;241;43m.\u001b[39;49m\u001b[43mXPATH\u001b[49m\u001b[43m,\u001b[49m\u001b[43m \u001b[49m\u001b[38;5;124;43m\"\u001b[39;49m\u001b[38;5;124;43m//button[@data-testid=\u001b[39;49m\u001b[38;5;124;43m'\u001b[39;49m\u001b[38;5;124;43mAccept all-btn\u001b[39;49m\u001b[38;5;124;43m'\u001b[39;49m\u001b[38;5;124;43m]\u001b[39;49m\u001b[38;5;124;43m\"\u001b[39;49m\u001b[43m)\u001b[49m\n\u001b[1;32m      2\u001b[0m cookie_button\u001b[38;5;241m.\u001b[39mclick()\n",
      "File \u001b[0;32m~/code/aadelboo/becode_projects/Thomas4/LGG-Thomas4/myenv/lib/python3.12/site-packages/selenium/webdriver/remote/webdriver.py:741\u001b[0m, in \u001b[0;36mWebDriver.find_element\u001b[0;34m(self, by, value)\u001b[0m\n\u001b[1;32m    738\u001b[0m     by \u001b[38;5;241m=\u001b[39m By\u001b[38;5;241m.\u001b[39mCSS_SELECTOR\n\u001b[1;32m    739\u001b[0m     value \u001b[38;5;241m=\u001b[39m \u001b[38;5;124mf\u001b[39m\u001b[38;5;124m'\u001b[39m\u001b[38;5;124m[name=\u001b[39m\u001b[38;5;124m\"\u001b[39m\u001b[38;5;132;01m{\u001b[39;00mvalue\u001b[38;5;132;01m}\u001b[39;00m\u001b[38;5;124m\"\u001b[39m\u001b[38;5;124m]\u001b[39m\u001b[38;5;124m'\u001b[39m\n\u001b[0;32m--> 741\u001b[0m \u001b[38;5;28;01mreturn\u001b[39;00m \u001b[38;5;28;43mself\u001b[39;49m\u001b[38;5;241;43m.\u001b[39;49m\u001b[43mexecute\u001b[49m\u001b[43m(\u001b[49m\u001b[43mCommand\u001b[49m\u001b[38;5;241;43m.\u001b[39;49m\u001b[43mFIND_ELEMENT\u001b[49m\u001b[43m,\u001b[49m\u001b[43m \u001b[49m\u001b[43m{\u001b[49m\u001b[38;5;124;43m\"\u001b[39;49m\u001b[38;5;124;43musing\u001b[39;49m\u001b[38;5;124;43m\"\u001b[39;49m\u001b[43m:\u001b[49m\u001b[43m \u001b[49m\u001b[43mby\u001b[49m\u001b[43m,\u001b[49m\u001b[43m \u001b[49m\u001b[38;5;124;43m\"\u001b[39;49m\u001b[38;5;124;43mvalue\u001b[39;49m\u001b[38;5;124;43m\"\u001b[39;49m\u001b[43m:\u001b[49m\u001b[43m \u001b[49m\u001b[43mvalue\u001b[49m\u001b[43m}\u001b[49m\u001b[43m)\u001b[49m[\u001b[38;5;124m\"\u001b[39m\u001b[38;5;124mvalue\u001b[39m\u001b[38;5;124m\"\u001b[39m]\n",
      "File \u001b[0;32m~/code/aadelboo/becode_projects/Thomas4/LGG-Thomas4/myenv/lib/python3.12/site-packages/selenium/webdriver/remote/webdriver.py:347\u001b[0m, in \u001b[0;36mWebDriver.execute\u001b[0;34m(self, driver_command, params)\u001b[0m\n\u001b[1;32m    345\u001b[0m response \u001b[38;5;241m=\u001b[39m \u001b[38;5;28mself\u001b[39m\u001b[38;5;241m.\u001b[39mcommand_executor\u001b[38;5;241m.\u001b[39mexecute(driver_command, params)\n\u001b[1;32m    346\u001b[0m \u001b[38;5;28;01mif\u001b[39;00m response:\n\u001b[0;32m--> 347\u001b[0m     \u001b[38;5;28;43mself\u001b[39;49m\u001b[38;5;241;43m.\u001b[39;49m\u001b[43merror_handler\u001b[49m\u001b[38;5;241;43m.\u001b[39;49m\u001b[43mcheck_response\u001b[49m\u001b[43m(\u001b[49m\u001b[43mresponse\u001b[49m\u001b[43m)\u001b[49m\n\u001b[1;32m    348\u001b[0m     response[\u001b[38;5;124m\"\u001b[39m\u001b[38;5;124mvalue\u001b[39m\u001b[38;5;124m\"\u001b[39m] \u001b[38;5;241m=\u001b[39m \u001b[38;5;28mself\u001b[39m\u001b[38;5;241m.\u001b[39m_unwrap_value(response\u001b[38;5;241m.\u001b[39mget(\u001b[38;5;124m\"\u001b[39m\u001b[38;5;124mvalue\u001b[39m\u001b[38;5;124m\"\u001b[39m, \u001b[38;5;28;01mNone\u001b[39;00m))\n\u001b[1;32m    349\u001b[0m     \u001b[38;5;28;01mreturn\u001b[39;00m response\n",
      "File \u001b[0;32m~/code/aadelboo/becode_projects/Thomas4/LGG-Thomas4/myenv/lib/python3.12/site-packages/selenium/webdriver/remote/errorhandler.py:229\u001b[0m, in \u001b[0;36mErrorHandler.check_response\u001b[0;34m(self, response)\u001b[0m\n\u001b[1;32m    227\u001b[0m         alert_text \u001b[38;5;241m=\u001b[39m value[\u001b[38;5;124m\"\u001b[39m\u001b[38;5;124malert\u001b[39m\u001b[38;5;124m\"\u001b[39m]\u001b[38;5;241m.\u001b[39mget(\u001b[38;5;124m\"\u001b[39m\u001b[38;5;124mtext\u001b[39m\u001b[38;5;124m\"\u001b[39m)\n\u001b[1;32m    228\u001b[0m     \u001b[38;5;28;01mraise\u001b[39;00m exception_class(message, screen, stacktrace, alert_text)  \u001b[38;5;66;03m# type: ignore[call-arg]  # mypy is not smart enough here\u001b[39;00m\n\u001b[0;32m--> 229\u001b[0m \u001b[38;5;28;01mraise\u001b[39;00m exception_class(message, screen, stacktrace)\n",
      "\u001b[0;31mNoSuchElementException\u001b[0m: Message: Unable to locate element: //button[@data-testid='Accept all-btn']; For documentation on this error, please visit: https://www.selenium.dev/documentation/webdriver/troubleshooting/errors#no-such-element-exception\nStacktrace:\nRemoteError@chrome://remote/content/shared/RemoteError.sys.mjs:8:8\nWebDriverError@chrome://remote/content/shared/webdriver/Errors.sys.mjs:193:5\nNoSuchElementError@chrome://remote/content/shared/webdriver/Errors.sys.mjs:511:5\ndom.find/</<@chrome://remote/content/shared/DOM.sys.mjs:136:16\n"
     ]
    }
   ],
   "source": [
    "cookie_button = driver.find_element(By.XPATH, \"//button[@data-testid='Accept all-btn']\")\n",
    "cookie_button.click()"
   ]
  },
  {
   "cell_type": "markdown",
   "metadata": {},
   "source": [
    "Now let's get all the titles of the articles by using XPATH and let's store them in a list\n"
   ]
  },
  {
   "cell_type": "code",
   "execution_count": null,
   "metadata": {},
   "outputs": [
    {
     "data": {
      "text/plain": [
       "[]"
      ]
     },
     "execution_count": 24,
     "metadata": {},
     "output_type": "execute_result"
    }
   ],
   "source": [
    "article_titles = driver.find_elements(By.XPATH, \"//section[@class='story-wrapper']// p//p[@class='indicate-hover css-1gg6cw2']\")\n",
    "all_titles = []\n",
    "for title in article_titles:\n",
    "    all_titles.append(title.text)\n",
    "\n",
    "all_titles"
   ]
  },
  {
   "cell_type": "markdown",
   "metadata": {},
   "source": [
    "Here we are ! Let's close the browser then !"
   ]
  },
  {
   "cell_type": "code",
   "execution_count": null,
   "metadata": {},
   "outputs": [],
   "source": [
    "driver.close()"
   ]
  },
  {
   "cell_type": "markdown",
   "metadata": {},
   "source": [
    "### Exercise\n",
    "\n",
    "1. Use Selenium for opening the homepage of your favourite newspaper (not the New York Times, too easy)\n",
    "2. Close the cookie banner (if it appears)\n",
    "3. Get the link of the first article of the page and open it\n",
    "4. Print the title and the content of the article\n",
    "\n",
    "**tip:** [Newspaper3k](https://pypi.org/project/newspaper3k/) is a powerful library for scraping articles from newspapers. Have a look to the `fulltext` method."
   ]
  },
  {
   "cell_type": "code",
   "execution_count": 8,
   "metadata": {},
   "outputs": [
    {
     "data": {
      "text/plain": [
       "[\"AB InBev numéro 1 de l'écart salarial, une mesure de plus en plus contestée\",\n",
       " 'Wise, une domination encore incertaine',\n",
       " \"Une double casquette, pour Georges-Louis Bouchez ou d'autres, quel est l'intérêt?\",\n",
       " 'Good Move à Bruxelles: le MR peut-il vraiment tout jeter\\u202f?',\n",
       " 'La garde rapprochée qui va assister Maxime Prévot dans les négociations',\n",
       " '',\n",
       " '',\n",
       " '',\n",
       " 'Ce que changerait la suppression des droits de succession en Wallonie',\n",
       " \"Quel serait l'impact de la coalition MR-Les Engagés sur le portefeuille des Wallons?\",\n",
       " \"Une double casquette, pour Georges-Louis Bouchez ou d'autres, quel est l'intérêt?\",\n",
       " 'La démocratie représentative en berne à Bruxelles',\n",
       " \"Après Van Hool, Barry Callebaut et FedEx, Ontex sabre à son tour dans l'emploi\",\n",
       " 'Tracker Talk | Comment suivre le virage des banques centrales sur les taux?',\n",
       " 'Gouvernement wallon: objectif 16 juillet pour le MR et Les Engagés?',\n",
       " 'Le liégeois Klinkenberg passe en mains flamandes',\n",
       " \"Nicolai Tangen, fer de lance d'un capitalisme plus éthique\",\n",
       " \"Suivre la situation au Moyen-Orient | Le Hezbollah libanais lance de nouvelles attaques contre l'armée israélienne\",\n",
       " \"Avec l'Alpine A290, Renault prend le virage du premium électrique\",\n",
       " \"Le G7 s'accorde sur un prêt de 50 milliards de dollars à Kiev garanti par les avoirs russes gelés\",\n",
       " \"Élections 2024 | Ecolo élira sa nouvelle coprésidence d'ici au 21 juillet\",\n",
       " 'Le marché savoure l’accord entre Lotus et Mondelez',\n",
       " \"À la veille d'une hausse de ses tarifs, Ores en opération séduction auprès des communes\",\n",
       " 'Les avantages et les inconvénients fiscaux de la pension alimentaire',\n",
       " 'Guide Impôts | Tout savoir sur votre déclaration fiscale 2024',\n",
       " 'Huit formes de rémunération que vous ne devez pas déclarer',\n",
       " '',\n",
       " '',\n",
       " '',\n",
       " 'Qui est Ben Storms? Le Belge fait son début au salon du design le plus prestigieux du monde',\n",
       " \"Le tapis léopard comme touche d'intérieur | 'Les gens vont te prendre pour un dictateur africain!'\",\n",
       " 'Pour quel chanteur Jamie Oliver préparait-t-il un steak de picanha sur son barbecue Weber Genesis?',\n",
       " '',\n",
       " '',\n",
       " '',\n",
       " 'Comment s’entourer pour éclore? Yaka!',\n",
       " 'Tracker #47 | Celui qui veut partager \"Le Pactole\"',\n",
       " 'Plus de 500.000 Wallons pourraient être touchés par des inondations',\n",
       " 'Un Bruxellois sur deux a déjà une borne de recharge électrique à moins de 150 mètres de chez lui',\n",
       " 'Les 10 sujets dont vous allez parler en 2024',\n",
       " '',\n",
       " '',\n",
       " '',\n",
       " 'Olivier Villepreux: \"Le football est un miroir grossissant de la mentalité d\\'une société\"',\n",
       " 'Ce que changerait la suppression des droits de succession en Wallonie',\n",
       " \"Quel serait l'impact de la coalition MR-Les Engagés sur le portefeuille des Wallons?\",\n",
       " 'Expatriation, donation, déménagement: trois scénarios pour votre succession',\n",
       " 'Deux tiers des indépendants prennent leur pension avant 65 ans',\n",
       " 'Un crédit hypothécaire est-il encore fiscalement intéressant?',\n",
       " 'L’actrice Samantha Morton s’impose aussi comme chanteuse',\n",
       " 'Elle a pris le large, Françoise Hardy',\n",
       " 'Françoise Hardy nous dit adieu',\n",
       " 'Quels impôts payez-vous dans votre commune?',\n",
       " 'Comment acheter son bien immobilier en 7 étapes',\n",
       " 'Un calendrier nucléaire casse-tête pour le futur gouvernement',\n",
       " 'La démocratie représentative en berne à Bruxelles',\n",
       " 'Les convergences MR-Les Engagés pour booster l’emploi en Wallonie',\n",
       " 'Gouvernement wallon: objectif 16 juillet pour le MR et Les Engagés?',\n",
       " \"Suivre la situation au Moyen-Orient | Le Hezbollah libanais lance de nouvelles attaques contre l'armée israélienne\",\n",
       " 'Un calendrier nucléaire casse-tête pour le futur gouvernement',\n",
       " 'Wise, une domination encore incertaine',\n",
       " 'Le liégeois Klinkenberg passe en mains flamandes',\n",
       " \"Avec l'Alpine A290, Renault prend le virage du premium électrique\",\n",
       " \"Nicolai Tangen, fer de lance d'un capitalisme plus éthique\",\n",
       " 'Un calendrier nucléaire casse-tête pour le futur gouvernement',\n",
       " 'Les convergences MR-Les Engagés pour booster l’emploi en Wallonie',\n",
       " 'Gouvernement wallon: objectif 16 juillet pour le MR et Les Engagés?',\n",
       " \"Le G7 s'accorde sur un prêt de 50 milliards de dollars à Kiev garanti par les avoirs russes gelés\",\n",
       " \"L'Otan s'apprête à pérenniser son aide militaire à l'Ukraine\",\n",
       " \"À Berlin, un marathon débute sur l'avenir de l'Ukraine\",\n",
       " \"Suivre la situation au Moyen-Orient | Le Hezbollah libanais lance de nouvelles attaques contre l'armée israélienne\",\n",
       " 'Guerre Israël-Hamas: le centriste Benny Gantz quitte le cabinet de guerre de Netanyahu',\n",
       " \"Suivre la situation au Moyen-Orient | Reprise de la livraison de l'aide à Gaza à partir de la jetée temporaire américaine\"]"
      ]
     },
     "execution_count": 8,
     "metadata": {},
     "output_type": "execute_result"
    }
   ],
   "source": [
    "url = \"https://www.lecho.be/\"\n",
    "driver = webdriver.Chrome()\n",
    "driver.get(url)\n",
    "\n",
    "cookie_button = driver.find_element(By.XPATH, \"//button[@aria-label='Accepter & Fermer: Accepter notre traitement des données et fermer']\")\n",
    "cookie_button.click()\n",
    "\n",
    "article_titles = driver.find_elements(By.XPATH, \"//a[@class='c-articleteaser__link gtm-article-teaser-link']\")\n",
    "all_titles = []\n",
    "for title in article_titles:\n",
    "    all_titles.append(title.text)\n",
    "\n",
    "all_titles\n"
   ]
  }
 ],
 "metadata": {
  "kernelspec": {
   "display_name": "Python 3.10.5 ('infosessionvenv')",
   "language": "python",
   "name": "python3"
  },
  "language_info": {
   "codemirror_mode": {
    "name": "ipython",
    "version": 3
   },
   "file_extension": ".py",
   "mimetype": "text/x-python",
   "name": "python",
   "nbconvert_exporter": "python",
   "pygments_lexer": "ipython3",
   "version": "3.12.3"
  },
  "vscode": {
   "interpreter": {
    "hash": "661c13da0699b4d3adfbe1192573631e3fbd9fa55405ad8c238e615a4e7e8a33"
   }
  }
 },
 "nbformat": 4,
 "nbformat_minor": 2
}
