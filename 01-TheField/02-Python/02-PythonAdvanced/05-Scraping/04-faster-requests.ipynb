{
 "cells": [
  {
   "cell_type": "markdown",
   "metadata": {},
   "source": [
    "# Make your requests faster\n",
    "\n",
    "When you start scraping web-pages or requesting APIs, you will be facing a problem when doing a lot of requests: this is really slow!\n",
    "\n",
    "It's because python is slow! You could say, well it should not be. Let's see how we can speed things up!\n",
    "\n",
    "## Measure performances\n",
    "\n",
    "In this notebook we will need to track how much time some code is taking to execute.\n",
    "To make things easier, we will create a simple decorator that will print the number of micro-seconds a function takes to execute.\n",
    "\n",
    "A good opportonity to practice decorators in a practical example!\n",
    "\n",
    "*Note that you need python3.3 or higher.*"
   ]
  },
  {
   "cell_type": "code",
   "execution_count": 5,
   "metadata": {},
   "outputs": [
    {
     "name": "stdout",
     "output_type": "stream",
     "text": [
      "example took 2.01 sec\n"
     ]
    }
   ],
   "source": [
    "import time\n",
    "\n",
    "def print_timing(func):\n",
    "    '''Create a timing decorator function use @print_timing just above the function you want to time.'''\n",
    "\n",
    "    def wrapper(*arg):\n",
    "        start = time.perf_counter()\n",
    "\n",
    "        # Run the function decorated\n",
    "        result = func(*arg)\n",
    "\n",
    "        end = time.perf_counter()\n",
    "        execution_time = round((end - start), 2)\n",
    "        print(f'{func.__name__} took {execution_time} sec')\n",
    "        return result\n",
    "\n",
    "    return wrapper\n",
    "\n",
    "\n",
    "@print_timing\n",
    "def example():\n",
    "    time.sleep(2)\n",
    "\n",
    "\n",
    "example()"
   ]
  },
  {
   "cell_type": "markdown",
   "metadata": {},
   "source": [
    "## The API\n",
    "\n",
    "For this example, we will use the [quotable.io](https://api.quotable.io) API. It's an online API you can use to generate random quote.\n",
    "\n",
    "But feel free to replace `api_url` value with any API you'd like."
   ]
  },
  {
   "cell_type": "code",
   "execution_count": 6,
   "metadata": {},
   "outputs": [],
   "source": [
    "api_url = \"https://api.quotable.io/ random\""
   ]
  },
  {
   "cell_type": "markdown",
   "metadata": {},
   "source": [
    "## The \"classic\" way\n",
    "\n",
    "If you start playing with requests, your should probably have something like this:"
   ]
  },
  {
   "cell_type": "code",
   "execution_count": 7,
   "metadata": {},
   "outputs": [
    {
     "ename": "KeyError",
     "evalue": "'content'",
     "output_type": "error",
     "traceback": [
      "\u001b[0;31m---------------------------------------------------------------------------\u001b[0m",
      "\u001b[0;31mKeyError\u001b[0m                                  Traceback (most recent call last)",
      "Cell \u001b[0;32mIn[7], line 17\u001b[0m\n\u001b[1;32m     13\u001b[0m     \u001b[38;5;28;01mfor\u001b[39;00m _ \u001b[38;5;129;01min\u001b[39;00m \u001b[38;5;28mrange\u001b[39m(\u001b[38;5;241m50\u001b[39m):\n\u001b[1;32m     14\u001b[0m         basic_request(url)\n\u001b[0;32m---> 17\u001b[0m \u001b[43mbasic_loop_request\u001b[49m\u001b[43m(\u001b[49m\u001b[43mapi_url\u001b[49m\u001b[43m)\u001b[49m\n",
      "Cell \u001b[0;32mIn[5], line 10\u001b[0m, in \u001b[0;36mprint_timing.<locals>.wrapper\u001b[0;34m(*arg)\u001b[0m\n\u001b[1;32m      7\u001b[0m start \u001b[38;5;241m=\u001b[39m time\u001b[38;5;241m.\u001b[39mperf_counter()\n\u001b[1;32m      9\u001b[0m \u001b[38;5;66;03m# Run the function decorated\u001b[39;00m\n\u001b[0;32m---> 10\u001b[0m result \u001b[38;5;241m=\u001b[39m \u001b[43mfunc\u001b[49m\u001b[43m(\u001b[49m\u001b[38;5;241;43m*\u001b[39;49m\u001b[43marg\u001b[49m\u001b[43m)\u001b[49m\n\u001b[1;32m     12\u001b[0m end \u001b[38;5;241m=\u001b[39m time\u001b[38;5;241m.\u001b[39mperf_counter()\n\u001b[1;32m     13\u001b[0m execution_time \u001b[38;5;241m=\u001b[39m \u001b[38;5;28mround\u001b[39m((end \u001b[38;5;241m-\u001b[39m start), \u001b[38;5;241m2\u001b[39m)\n",
      "Cell \u001b[0;32mIn[7], line 14\u001b[0m, in \u001b[0;36mbasic_loop_request\u001b[0;34m(url)\u001b[0m\n\u001b[1;32m     10\u001b[0m \u001b[38;5;129m@print_timing\u001b[39m\n\u001b[1;32m     11\u001b[0m \u001b[38;5;28;01mdef\u001b[39;00m \u001b[38;5;21mbasic_loop_request\u001b[39m(url: \u001b[38;5;28mstr\u001b[39m):\n\u001b[1;32m     12\u001b[0m     \u001b[38;5;66;03m# Query 50 times the API\u001b[39;00m\n\u001b[1;32m     13\u001b[0m     \u001b[38;5;28;01mfor\u001b[39;00m _ \u001b[38;5;129;01min\u001b[39;00m \u001b[38;5;28mrange\u001b[39m(\u001b[38;5;241m50\u001b[39m):\n\u001b[0;32m---> 14\u001b[0m         \u001b[43mbasic_request\u001b[49m\u001b[43m(\u001b[49m\u001b[43murl\u001b[49m\u001b[43m)\u001b[49m\n",
      "Cell \u001b[0;32mIn[7], line 7\u001b[0m, in \u001b[0;36mbasic_request\u001b[0;34m(url)\u001b[0m\n\u001b[1;32m      5\u001b[0m response \u001b[38;5;241m=\u001b[39m requests\u001b[38;5;241m.\u001b[39mget(url)\n\u001b[1;32m      6\u001b[0m response_json \u001b[38;5;241m=\u001b[39m response\u001b[38;5;241m.\u001b[39mjson()\n\u001b[0;32m----> 7\u001b[0m \u001b[38;5;28mprint\u001b[39m(\u001b[43mresponse_json\u001b[49m\u001b[43m[\u001b[49m\u001b[38;5;124;43m\"\u001b[39;49m\u001b[38;5;124;43mcontent\u001b[39;49m\u001b[38;5;124;43m\"\u001b[39;49m\u001b[43m]\u001b[49m)\n",
      "\u001b[0;31mKeyError\u001b[0m: 'content'"
     ]
    }
   ],
   "source": [
    "import requests\n",
    "\n",
    "\n",
    "def basic_request(url: str):\n",
    "    response = requests.get(url)\n",
    "    response_json = response.json()\n",
    "    print(response_json[\"content\"])\n",
    "\n",
    "\n",
    "@print_timing\n",
    "def basic_loop_request(url: str):\n",
    "    # Query 50 times the API\n",
    "    for _ in range(50):\n",
    "        basic_request(url)\n",
    "\n",
    "\n",
    "basic_loop_request(api_url)"
   ]
  },
  {
   "cell_type": "markdown",
   "metadata": {},
   "source": [
    "### Results\n",
    "\n",
    "On my machine it took **17.06 sec for 50 requests**. \n",
    "\n",
    "Pretty slow right? But why is that?\n",
    "\n",
    "Each time you make a request, your computer needs to create a new \"session\", format your request, send it and wait to receive the response before doing it again with the next request."
   ]
  },
  {
   "cell_type": "markdown",
   "metadata": {},
   "source": [
    "## The \"session\" way\n",
    "\n",
    "To speed this, we can use a **\"session\"** that will be share by all the requests.\n",
    "\n",
    "You can picture it as a postman that knows you already, so he knows which bell to ring, where is the mailbox,... Instead of having to search for those each time."
   ]
  },
  {
   "cell_type": "code",
   "execution_count": null,
   "metadata": {},
   "outputs": [
    {
     "name": "stdout",
     "output_type": "stream",
     "text": [
      "Love is never lost. If not reciprocated, it will flow back and soften and purify the heart.\n",
      "The conditions of conquest are always easy. We have but to toil awhile, endure awhile, believe always, and never turn back.\n",
      "The world has the habit of making room for the man whose actions show that he knows where he is going.\n",
      "Meaning is not what you start with but what you end up with.\n",
      "One fails forward toward success.\n",
      "What is not started today is never finished tomorrow.\n",
      "Science investigates; religion interprets. Science gives man knowledge which is power; religion gives man wisdom which is control.\n",
      "Success in business requires training and discipline and hard work. But if you're not frightened by these things, the opportunities are just as great today as they ever were.\n",
      "I love my past. I love my present. I'm not ashamed of what I've had, and I'm not sad because I have it no longer.\n",
      "Some people are born on third base and go through life thinking they hit a triple.\n",
      "If the stars should appear but one night every thousand years how man would marvel and adore.\n",
      "Perseverance is a great element of success. If you only knock long enough and loud enough at the gate, you are sure to wake up somebody.\n",
      "Nobody will believe in you unless you believe in yourself.\n",
      "All difficult things have their origin in that which is easy, and great things in that which is small.\n",
      "Continuous effort - not strength or intelligence - is the key to unlocking our potential.\n",
      "The more you like yourself, the less you are like anyone else, which makes you unique.\n",
      "Being entirely honest with oneself is a good exercise.\n",
      "The Universal Zulu Nation stands to acknowledge wisdom, understanding, freedom, justice, and equality, peace, unity, love, and having fun, work, overcoming the negative through the positive, science, mathematics, faith, facts, and the wonders of God, whether we call him Allah, Jehovah, Yahweh, or Jah.\n",
      "Everything you can imagine is real.\n",
      "Happiness does not come about only due to external circumstances; it mainly derives from inner attitudes.\n",
      "We cannot do everything at once, but we can do something at once.\n",
      "It is through science that we prove, but through intuition that we discover.\n",
      "Change your life today. Don't gamble on the future, act now, without delay.\n",
      "Success is not final; failure is not fatal: it is the courage to continue that counts.\n",
      "It is only when the mind and character slumber that the dress can be seen.\n",
      "You are the only person on earth who can use your ability.\n",
      "Gratitude is the fairest blossom which springs from the soul.\n",
      "To know oneself is to study oneself in action with another person.\n",
      "Always be a first-rate version of yourself, instead of a second-rate version of somebody else.\n",
      "Adversity causes some men to break, others to break records.\n",
      "Happiness does not come from having much, but from being attached to little.\n",
      "People are not lazy. They simply have impotent goals - that is, goals that do not inspire them.\n",
      "Even youngish men can acquire wisdom as time goes by.\n",
      "In friendship as well as love, ignorance very often contributes more to our happiness than knowledge.\n",
      "Imagination will often carry us to worlds that never were. But without it we go nowhere.\n",
      "No party has a monopoly on wisdom. No democracy works without compromise. But when Governor Romney and his allies in Congress tell us we can somehow lower our deficit by spending trillions more on new tax breaks for the wealthy - well, you do the math. I refuse to go along with that. And as long as I'm President, I never will.\n",
      "Friendship is like money, easier made than kept.\n",
      "Of all possessions a friend is the most precious.\n",
      "I have realized that the past and future are real illusions, that they exist in the present, which is what there is and all there is.\n",
      "In all things of nature there is something of the marvelous.\n",
      "He who fears being conquered is sure of defeat.\n",
      "Every friendship goes through ups and downs. Dysfunctional patterns set in; external situations cause internal friction; you grow apart and then bounce back together.\n",
      "Talent is God given. Be humble. Fame is man-given. Be grateful. Conceit is self-given. Be careful.\n",
      "Real success is finding your lifework in the work that you love.\n",
      "It's so simple to be wise. Just think of something stupid to say and then don't say it.\n",
      "I'd rather attempt to do something great and fail than to attempt to do nothing and succeed.\n",
      "Technology has to be invented or adopted.\n",
      "Never mistake motion for action.\n",
      "Conflict is the gadfly of thought. It stirs us to observation and memory. It instigates to invention. It shocks us out of sheeplike passivity, and sets us at noting and contriving.\n",
      "The superior man blames himself. The inferior man blames others.\n",
      "session_loop_request took 5.99 sec\n"
     ]
    }
   ],
   "source": [
    "from requests import Session\n",
    "\n",
    "\n",
    "def session_request(url: str, session: Session):\n",
    "    # Instead of using request.get, we use our session\n",
    "    response = session.get(url)\n",
    "    response_json = response.json()\n",
    "    print(response_json[\"content\"])\n",
    "\n",
    "\n",
    "@print_timing\n",
    "def session_loop_request(url: str):\n",
    "    # Create shared session for all of your requests\n",
    "    with Session() as session:\n",
    "        # Query 50 times the API\n",
    "        for _ in range(50):\n",
    "            session_request(url, session)\n",
    "\n",
    "\n",
    "session_loop_request(api_url)"
   ]
  },
  {
   "cell_type": "markdown",
   "metadata": {},
   "source": [
    "### Results\n",
    "\n",
    "It took me **5.99 sec for 50 requests**. That's better!\n",
    "\n",
    "And as you can see, I didn't change that much in the code."
   ]
  },
  {
   "cell_type": "markdown",
   "metadata": {},
   "source": [
    "## The \"Async\" way\n",
    "\n",
    "If you need even more performances, you will need to use [AsyncIo](https://docs.python.org/3/library/asyncio.html).\n",
    "\n",
    "This is a library to allow you to run asynchronous code.\n",
    "\n",
    "Why is that more efficiant? Well, when you send a request you need to wait for the response. And during the waiting time, our computer does nothing.\n",
    "If you count all the time the computer is just \"waiting\" on 50 or more requests, you will be surprised to see that most of the computing time is just waiting for the server to respond.\n",
    "\n",
    "[AsyncIo](https://docs.python.org/3/library/asyncio.html) allow you to bypass that.\n",
    "\n",
    "But as always, it has a cost: complexity.\n",
    "\n",
    "Making your code async will complixify the code a lot and make the debugging not a pleasant experience. Also, you will go so fast that you could be banned by the server.\n",
    "\n",
    "My advice? Use it only if you need it.\n",
    "\n",
    "I will show you a simple example but you want to understand it better, I really advice you **[this video](https://www.youtube.com/watch?v=qAh5dDODJ5k)**!\n",
    "\n",
    "### Requirements\n",
    "In order to simplify a bit the code, I will use [httpx](https://www.python-httpx.org/) a python library that is working the same way as the `requests` module but with few helpers for async."
   ]
  },
  {
   "cell_type": "code",
   "execution_count": null,
   "metadata": {},
   "outputs": [
    {
     "name": "stdout",
     "output_type": "stream",
     "text": [
      "Requirement already satisfied: httpx in /Library/Frameworks/Python.framework/Versions/3.8/lib/python3.8/site-packages (0.23.0)\n",
      "Requirement already satisfied: sniffio in /Library/Frameworks/Python.framework/Versions/3.8/lib/python3.8/site-packages (from httpx) (1.2.0)\n",
      "Requirement already satisfied: certifi in /Library/Frameworks/Python.framework/Versions/3.8/lib/python3.8/site-packages (from httpx) (2021.10.8)\n",
      "Requirement already satisfied: rfc3986[idna2008]<2,>=1.3 in /Library/Frameworks/Python.framework/Versions/3.8/lib/python3.8/site-packages (from httpx) (1.5.0)\n",
      "Requirement already satisfied: httpcore<0.16.0,>=0.15.0 in /Library/Frameworks/Python.framework/Versions/3.8/lib/python3.8/site-packages (from httpx) (0.15.0)\n",
      "Requirement already satisfied: h11<0.13,>=0.11 in /Library/Frameworks/Python.framework/Versions/3.8/lib/python3.8/site-packages (from httpcore<0.16.0,>=0.15.0->httpx) (0.12.0)\n",
      "Requirement already satisfied: anyio==3.* in /Library/Frameworks/Python.framework/Versions/3.8/lib/python3.8/site-packages (from httpcore<0.16.0,>=0.15.0->httpx) (3.6.1)\n",
      "Requirement already satisfied: idna>=2.8 in /Library/Frameworks/Python.framework/Versions/3.8/lib/python3.8/site-packages (from anyio==3.*->httpcore<0.16.0,>=0.15.0->httpx) (2.9)\n"
     ]
    }
   ],
   "source": [
    "!pip install httpx"
   ]
  },
  {
   "cell_type": "markdown",
   "metadata": {},
   "source": [
    "### Warning!\n",
    "This code won't work in jupyter notebook, there are subtilities for async in jupyter notebook. See [this thread](https://stackoverflow.com/questions/47518874/how-do-i-run-python-asyncio-code-in-a-jupyter-notebook) for more informations.\n",
    "\n",
    "To make it simpler, I will put this code in a .py file and run it in command line:"
   ]
  },
  {
   "cell_type": "markdown",
   "metadata": {},
   "source": [
    "```python\n",
    "from httpx import AsyncClient\n",
    "import asyncio\n",
    "import time\n",
    "\n",
    "\n",
    "api_url = \"https://api.quotable.io/random\"\n",
    "\n",
    "\n",
    "async def session_request_async(url: str, session: AsyncClient):\n",
    "    # Instead of using request.get, we use our session\n",
    "    response = await session.get(url)\n",
    "    response_json = response.json()\n",
    "    print(response_json[\"content\"])\n",
    "    return response_json\n",
    "\n",
    "\n",
    "async def session_loop_request_async(url: str):\n",
    "    # Create shared session for all of your requests\n",
    "    async with AsyncClient() as session:\n",
    "        # Create a list of empty tasks\n",
    "        tasks = []\n",
    "        # Query 50 times the API\n",
    "        for _ in range(50):\n",
    "            # Add a request to tasks\n",
    "            tasks.append(\n",
    "                asyncio.create_task(\n",
    "                    session_request_async(url, session)        \n",
    "                )\n",
    "            )\n",
    "        # Now that all the tasks are registred, run them\n",
    "        responses = await asyncio.gather(*tasks)\n",
    "            \n",
    "            \n",
    "\n",
    "\n",
    "start = time.perf_counter()\n",
    "\n",
    "# We need to use asyncio.run to run the async function\n",
    "asyncio.run(session_loop_request_async(api_url))\n",
    "\n",
    "end = time.perf_counter()\n",
    "execution_time = round((end - start), 2)\n",
    "print(f'session_loop_request_async took {execution_time} sec')\n",
    "```"
   ]
  },
  {
   "cell_type": "code",
   "execution_count": null,
   "metadata": {},
   "outputs": [
    {
     "name": "stdout",
     "output_type": "stream",
     "text": [
      "Don't cry because it's over. Smile because it happened.\n",
      "Our kindness may be the most persuasive argument for that which we believe.\n",
      "The pessimist complains about the wind; the optimist expects it to change; the realist adjusts the sails.\n",
      "There are two ways to slide easily through life: to believe everything or to doubt everything; both ways save us from thinking.\n",
      "It is a common experience that a problem difficult at night is resolved in the morning after the committee of sleep has worked on it.\n",
      "Optimism is the faith that leads to achievement. Nothing can be done without hope and confidence.\n",
      "Obstacles are those frightful things you see when you take your eyes off your goal.\n",
      "Irony is the gaiety of reflection and the joy of wisdom.\n",
      "Twenty years from now you will be more disappointed by the things that you didn't do than by the ones you did do.\n",
      "An idea that is developed and put into action is more important than an idea that exists only as an idea.\n",
      "The best and most beautiful things in the world cannot be seen, nor touched... but are felt in the heart.\n",
      "Success is not final; failure is not fatal: it is the courage to continue that counts.\n",
      "The truth of the matter is that you always know the right thing to do. The hard part is doing it.\n",
      "We should all be thankful for those people who rekindle the inner spirit.\n",
      "The best thing about the future is that it only comes one day at a time.\n",
      "Good people are good because they've come to wisdom through failure. We get very little wisdom from success, you know.\n",
      "I love my past. I love my present. I'm not ashamed of what I've had, and I'm not sad because I have it no longer.\n",
      "First-rate people hire first-rate people; second-rate people hire third-rate people.\n",
      "Friendship is almost always the union of a part of one mind with the part of another; people are friends in spots.\n",
      "One of the tests of leadership is the ability to recognize a problem before it becomes an emergency.\n",
      "Technology made large populations possible; large populations now make technology indispensable.\n",
      "Quality is never an accident; it is always the result of intelligent effort.\n",
      "Only I can change my life. No one can do it for me.\n",
      "Know what's important and what isn't. Have the wisdom to know the right thing to do, the integrity to do it, the character to stand up to those who don't, and the courage to stop those who won't.\n",
      "Of course there is no formula for success except perhaps an unconditional acceptance of life and what it brings.\n",
      "Sports do not build character. They reveal it.\n",
      "It is not a lack of love, but a lack of friendship that makes unhappy marriages.\n",
      "Life is 10% what happens to you and 90% how you react to it.\n",
      "The most complicated achievements of thought are possible without the assistance of consciousness.\n",
      "The truest greatness lies in being kind, the truest wisdom in a happy mind.\n",
      "Football is football and talent is talent. But the mindset of your team makes all the difference.\n",
      "There surely is in human nature an inherent propensity to extract all the good out of all the evil.\n",
      "First say to yourself what you would be; and then do what you have to do.\n",
      "Of all possessions a friend is the most precious.\n",
      "The only way to make sense out of change is to plunge into it, move with it, and join the dance.\n",
      "Trust yourself. You know more than you think you do.\n",
      "Thousands of candles can be lighted from a single candle, and the life of the candle will not be shortened. Happiness never decreases by being shared.\n",
      "What you do today can improve all your tomorrows.\n",
      "This is the final test of a gentleman: his respect for those who can be of no possible value to him.\n",
      "A lot of times people look at the negative side of what they feel they can't do. I always look on the positive side of what I can do.\n",
      "Friends... they cherish one another's hopes. They are kind to one another's dreams.\n",
      "If the single man plant himself indomitably on his instincts, and there abide, the huge world will come round to him.\n",
      "We can only learn to love by loving.\n",
      "There are people who have money and people who are rich.\n",
      "No day in which you learn something is a complete loss.\n",
      "Let us be grateful to people who make us happy; they are the charming gardeners who make our souls blossom.\n",
      "Truth, and goodness, and beauty are but different faces of the same all.\n",
      "Adversity has the effect of eliciting talents, which in prosperous circumstances would have lain dormant.\n",
      "When you are content to be simply yourself and don't compare or compete, everybody will respect you.\n",
      "Happiness does not come from having much, but from being attached to little.\n",
      "session_loop_request_async took 0.8 sec\n"
     ]
    }
   ],
   "source": [
    "!python3 ./assets/async_requests.py"
   ]
  },
  {
   "cell_type": "markdown",
   "metadata": {},
   "source": [
    "### Results\n",
    "It only took me **0.8 sec for 50 requests**! That's impressive.\n",
    "\n",
    "But as you can see, it is harder to write, structure and debug. So make sure you **really** need it if you consider using this method."
   ]
  },
  {
   "cell_type": "markdown",
   "metadata": {},
   "source": [
    "## Summary\n",
    "\n",
    "If we gather all our results:\n",
    "\n",
    "| Method                     | Execution time for 50 requests |\n",
    "|----------------------------|--------------------------------|\n",
    "| `requests.get` loop        | 17.06 sec                  |\n",
    "| `requests` with `Session`  | 5.99 sec                   |\n",
    "| `httpx` with `AsyncClient` | 0.8 sec                   |"
   ]
  },
  {
   "cell_type": "markdown",
   "metadata": {},
   "source": []
  }
 ],
 "metadata": {
  "kernelspec": {
   "display_name": "Python 3.10.5 64-bit",
   "language": "python",
   "name": "python3"
  },
  "language_info": {
   "codemirror_mode": {
    "name": "ipython",
    "version": 3
   },
   "file_extension": ".py",
   "mimetype": "text/x-python",
   "name": "python",
   "nbconvert_exporter": "python",
   "pygments_lexer": "ipython3",
   "version": "3.12.3"
  },
  "orig_nbformat": 4,
  "vscode": {
   "interpreter": {
    "hash": "b460384b52104c1e5b9cf54bee46a255d22b2bef338f75ac4ad5d48196028d3c"
   }
  }
 },
 "nbformat": 4,
 "nbformat_minor": 2
}
